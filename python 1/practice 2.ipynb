{
 "cells": [
  {
   "cell_type": "code",
   "execution_count": 6,
   "id": "bc9a8583",
   "metadata": {},
   "outputs": [
    {
     "name": "stdout",
     "output_type": "stream",
     "text": [
      "enter the string  ASKJHJHirrukehjkd9874r38786456**^^&$*$*I\n",
      "LOWER COUNT  11\n",
      "UPPER COUNT  8\n",
      "DIGIT COUNT  12\n",
      "SPECIAL COUNT  9\n"
     ]
    }
   ],
   "source": [
    "# count all lower case ,upper case ,digit and special symbel\n",
    "\n",
    "str = input(\"enter the string  \")\n",
    "upper=0\n",
    "lower=0\n",
    "digit=0\n",
    "sp=0\n",
    "for i in str:\n",
    "    if i.islower():\n",
    "        lower=lower+1\n",
    "    elif i.isupper():\n",
    "        upper=upper+1\n",
    "    elif i.isdigit():\n",
    "        digit=digit+1\n",
    "    else:\n",
    "        sp=sp+1\n",
    "        \n",
    "print(\"LOWER COUNT \",lower)\n",
    "print('UPPER COUNT ',upper)\n",
    "print('DIGIT COUNT ',digit)\n",
    "print('SPECIAL COUNT ',sp)"
   ]
  },
  {
   "cell_type": "code",
   "execution_count": null,
   "id": "3043aef7",
   "metadata": {},
   "outputs": [
    {
     "name": "stdout",
     "output_type": "stream",
     "text": [
      "welcome to our randome password genrator\n",
      "enter the length the password  12\n",
      "~n$GA@Wa(fco\n",
      "welcome to our randome password genrator\n"
     ]
    }
   ],
   "source": [
    "# TO CREAT A RANDOME PASSWORD GENRATE\n",
    "\n",
    "import random\n",
    "import string\n",
    "def main():\n",
    "    print(\"welcome to our randome password genrator\")\n",
    "    length = int(input(\"enter the length the password  \"))\n",
    "    lowerd = string.ascii_lowercase\n",
    "    upperd = string.ascii_uppercase\n",
    "    digitd = string.digits\n",
    "    symbold = string.punctuation\n",
    "    combine = lowerd+upperd+digitd+symbold\n",
    "    x = random.sample(combine,length)\n",
    "    password = ''.join(x)\n",
    "\n",
    "    print(password)\n",
    "    main()\n",
    "main()"
   ]
  },
  {
   "cell_type": "code",
   "execution_count": 2,
   "id": "3e8294b6",
   "metadata": {},
   "outputs": [
    {
     "name": "stdout",
     "output_type": "stream",
     "text": [
      "enter the sentence  awadkuertwehta;eruvze';orz8gek/kl\n",
      "11\n"
     ]
    }
   ],
   "source": [
    "# COUNT THE VOVEL IN GIVEN STRING\n",
    "\n",
    "sen = input(\"enter the sentence  \")\n",
    "v = ['a','e','i','o','u']\n",
    "count = 0\n",
    "for i in sen:\n",
    "    if i in v:\n",
    "        count=count+1\n",
    "        \n",
    "print(count)\n",
    "        "
   ]
  },
  {
   "cell_type": "code",
   "execution_count": 9,
   "id": "42ab3f4e",
   "metadata": {},
   "outputs": [
    {
     "name": "stdout",
     "output_type": "stream",
     "text": [
      "Area Of Recrangle  48\n"
     ]
    }
   ],
   "source": [
    "# find the area of rectangle and square by method overloadig\n",
    "\n",
    "class area:\n",
    "    def find_area(self,a=None,b=None):\n",
    "        if a is not None and b is not None:\n",
    "            print(\"Area Of Recrangle \",a*b)\n",
    "        elif a is not None:\n",
    "            print(\"Area Of Sqare\",a*a)\n",
    "        else:\n",
    "            print(\"Thank You\")\n",
    "            \n",
    "ar = area()\n",
    "ar.find_area(6,8)        "
   ]
  },
  {
   "cell_type": "code",
   "execution_count": 10,
   "id": "dec16edf",
   "metadata": {},
   "outputs": [
    {
     "name": "stdout",
     "output_type": "stream",
     "text": [
      "enter the number  44\n",
      "enter the number  99\n",
      "44 99\n",
      "99 44\n"
     ]
    }
   ],
   "source": [
    "#  exchange the value of two number\n",
    "\n",
    "a = int(input('enter the number  '))\n",
    "b = int(input(\"enter the number  \"))\n",
    "c=0\n",
    "print(a,b)\n",
    "c=a\n",
    "a=b\n",
    "b=c\n",
    "print(a,b)"
   ]
  },
  {
   "cell_type": "code",
   "execution_count": 11,
   "id": "f39a168a",
   "metadata": {},
   "outputs": [
    {
     "name": "stdout",
     "output_type": "stream",
     "text": [
      "enter the number  12\n",
      "enter the number  76\n",
      "12 76\n",
      "76 12\n"
     ]
    }
   ],
   "source": [
    "a = int(input('enter the number  '))\n",
    "b = int(input(\"enter the number  \"))\n",
    "print(a,b)\n",
    "a,b=b,a\n",
    "print(a,b)"
   ]
  },
  {
   "cell_type": "code",
   "execution_count": 9,
   "id": "c479e1b8",
   "metadata": {},
   "outputs": [
    {
     "name": "stdout",
     "output_type": "stream",
     "text": [
      "enter the number you want inside in list    3\n",
      "enter the element  535\n",
      "enter the element  354\n",
      "enter the element  6\n",
      "[535, 354, 6]\n",
      "895\n",
      "298.3333333333333\n"
     ]
    }
   ],
   "source": [
    "# calculate the average of list\n",
    "l=[]\n",
    "a = int(input(\"enter the number you want inside in list    \"))\n",
    "for i in range(a):\n",
    "    ele = int(input(\"enter the element  \"))\n",
    "    l.append(ele)\n",
    "    \n",
    "print(l)\n",
    "\n",
    "add = sum(l)\n",
    "print(add)\n",
    "\n",
    "average = float(add/a)\n",
    "print(average)"
   ]
  },
  {
   "cell_type": "code",
   "execution_count": null,
   "id": "faf11f95",
   "metadata": {},
   "outputs": [],
   "source": []
  },
  {
   "cell_type": "code",
   "execution_count": null,
   "id": "f65ec34d",
   "metadata": {},
   "outputs": [],
   "source": []
  }
 ],
 "metadata": {
  "kernelspec": {
   "display_name": "Python 3 (ipykernel)",
   "language": "python",
   "name": "python3"
  },
  "language_info": {
   "codemirror_mode": {
    "name": "ipython",
    "version": 3
   },
   "file_extension": ".py",
   "mimetype": "text/x-python",
   "name": "python",
   "nbconvert_exporter": "python",
   "pygments_lexer": "ipython3",
   "version": "3.9.13"
  }
 },
 "nbformat": 4,
 "nbformat_minor": 5
}
