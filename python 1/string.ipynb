{
 "cells": [
  {
   "cell_type": "code",
   "execution_count": 1,
   "id": "23a68d47",
   "metadata": {},
   "outputs": [
    {
     "name": "stdout",
     "output_type": "stream",
     "text": [
      "hello\n"
     ]
    }
   ],
   "source": [
    "#  single quote in string\n",
    "\n",
    "print('hello')"
   ]
  },
  {
   "cell_type": "code",
   "execution_count": 5,
   "id": "98b32bbb",
   "metadata": {},
   "outputs": [
    {
     "name": "stdout",
     "output_type": "stream",
     "text": [
      "hello\n"
     ]
    }
   ],
   "source": [
    "print(\"hello\")"
   ]
  },
  {
   "cell_type": "code",
   "execution_count": 6,
   "id": "6da1ec72",
   "metadata": {},
   "outputs": [
    {
     "name": "stdout",
     "output_type": "stream",
     "text": [
      " PTYHON IS GENRAL PURPOSE LANGUAGE\n",
      "PYTHON IS USE MACHINE LERNING , DATA SCIENCE\n",
      "\n",
      "\n"
     ]
    }
   ],
   "source": [
    "# MULTILINE STRING  \n",
    "print(''' PTYHON IS GENRAL PURPOSE LANGUAGE\n",
    "PYTHON IS USE MACHINE LERNING , DATA SCIENCE\n",
    "\n",
    "''')"
   ]
  },
  {
   "cell_type": "code",
   "execution_count": 14,
   "id": "aae4933a",
   "metadata": {},
   "outputs": [
    {
     "name": "stdout",
     "output_type": "stream",
     "text": [
      "hello python\n"
     ]
    }
   ],
   "source": [
    "# update string\n",
    "\n",
    "a = 'hello python'\n",
    "print(a)"
   ]
  },
  {
   "cell_type": "code",
   "execution_count": 19,
   "id": "24b6b14e",
   "metadata": {},
   "outputs": [
    {
     "name": "stdout",
     "output_type": "stream",
     "text": [
      "UPDATE STRING   hello world\n"
     ]
    }
   ],
   "source": [
    "print('UPDATE STRING  ',a[:6]+'world')"
   ]
  },
  {
   "cell_type": "code",
   "execution_count": 42,
   "id": "ff288f69",
   "metadata": {},
   "outputs": [
    {
     "name": "stdout",
     "output_type": "stream",
     "text": [
      "index  y\n",
      "BETWEEN INDEX   llo python\n",
      "LAST VALUE   n\n",
      "TILL   hello python\n"
     ]
    }
   ],
   "source": [
    "# STRING SLICING\n",
    "\n",
    "# ACCESS THE VALUE OF INDEX\n",
    "x = 'hello python'\n",
    "print(\"index \",x[7])\n",
    "\n",
    "# access between \n",
    "print(\"BETWEEN INDEX  \",x[2:12])\n",
    "\n",
    "# access the last value\n",
    "print(\"LAST VALUE  \",x[-1])\n",
    "\n",
    "#access till value\n",
    "print(\"TILL  \",x[:])"
   ]
  },
  {
   "cell_type": "markdown",
   "id": "cdf38c11",
   "metadata": {},
   "source": [
    "\n",
    "# STRING IN-BUILD METHOD"
   ]
  },
  {
   "cell_type": "code",
   "execution_count": 45,
   "id": "5c086c0d",
   "metadata": {},
   "outputs": [
    {
     "name": "stdout",
     "output_type": "stream",
     "text": [
      "hello python\n",
      "Hello python\n"
     ]
    }
   ],
   "source": [
    "# CAPITALIZE() : THIS METHOD CONVERT THE FIRST CHARECTERE IN STRING\n",
    "\n",
    "a = \"hello python\"\n",
    "print(a)\n",
    "\n",
    "x=a.capitalize()\n",
    "print(x)"
   ]
  },
  {
   "cell_type": "code",
   "execution_count": 46,
   "id": "a4e52c07",
   "metadata": {},
   "outputs": [
    {
     "name": "stdout",
     "output_type": "stream",
     "text": [
      "hello python\n"
     ]
    }
   ],
   "source": [
    "# CASEFOLD()\n",
    " # THIS METHOD IS CONVERT ALL FIRST CAPITAL INTO SMALL\n",
    "    \n",
    "a = 'Hello Python'\n",
    "\n",
    "b = a.casefold()\n",
    "print(b)"
   ]
  },
  {
   "cell_type": "code",
   "execution_count": 49,
   "id": "2ff82831",
   "metadata": {},
   "outputs": [
    {
     "name": "stdout",
     "output_type": "stream",
     "text": [
      "python\n",
      "              python              \n"
     ]
    }
   ],
   "source": [
    "# CENTER()  :  THIS IS USE TO BRINGE YOUR INTO CENTER\n",
    "\n",
    "a = 'python'\n",
    "print(a)\n",
    "\n",
    "# update using center method\n",
    "\n",
    "b = a.center(34)\n",
    "print(b)"
   ]
  },
  {
   "cell_type": "code",
   "execution_count": 54,
   "id": "1ae35163",
   "metadata": {},
   "outputs": [
    {
     "data": {
      "text/plain": [
       "2"
      ]
     },
     "execution_count": 54,
     "metadata": {},
     "output_type": "execute_result"
    }
   ],
   "source": [
    "# COUNT()  :  THIS METHOD IS USED THE REPEATED WORD IN STRING\n",
    "\n",
    "a = 'python,hello python'\n",
    "a.count('python')"
   ]
  },
  {
   "cell_type": "code",
   "execution_count": 60,
   "id": "75a7e256",
   "metadata": {},
   "outputs": [
    {
     "name": "stdout",
     "output_type": "stream",
     "text": [
      "True\n"
     ]
    }
   ],
   "source": [
    "#  CAMPARE STRING\n",
    "\n",
    "a = 'hello'\n",
    "b = 'hello python'\n",
    "result = a!=b\n",
    "print(result)"
   ]
  },
  {
   "cell_type": "code",
   "execution_count": null,
   "id": "995382d8",
   "metadata": {},
   "outputs": [],
   "source": []
  }
 ],
 "metadata": {
  "kernelspec": {
   "display_name": "Python 3 (ipykernel)",
   "language": "python",
   "name": "python3"
  },
  "language_info": {
   "codemirror_mode": {
    "name": "ipython",
    "version": 3
   },
   "file_extension": ".py",
   "mimetype": "text/x-python",
   "name": "python",
   "nbconvert_exporter": "python",
   "pygments_lexer": "ipython3",
   "version": "3.9.13"
  }
 },
 "nbformat": 4,
 "nbformat_minor": 5
}
