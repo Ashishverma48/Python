{
 "cells": [
  {
   "cell_type": "code",
   "execution_count": 7,
   "id": "3c277038",
   "metadata": {},
   "outputs": [
    {
     "name": "stdout",
     "output_type": "stream",
     "text": [
      "enter the charecter - &\n",
      "38\n"
     ]
    }
   ],
   "source": [
    "# find value to ascii value\n",
    "\n",
    "chr = input(\"enter the charecter - \")\n",
    "a = ord(chr)    # use ord() to find ascii value\n",
    "print(a)  \n",
    "\n"
   ]
  },
  {
   "cell_type": "code",
   "execution_count": 21,
   "id": "a61d05fd",
   "metadata": {},
   "outputs": [
    {
     "name": "stdout",
     "output_type": "stream",
     "text": [
      "ENTER THE DECIMAL NUMBER - 456\n",
      "456  BINARY NUMBER IS  0b111001000\n"
     ]
    }
   ],
   "source": [
    "# convert decimal to binary\n",
    "\n",
    "num = int(input(\"ENTER THE DECIMAL NUMBER - \"))\n",
    "n = bin(num)   # bin() use covert in binary\n",
    "print(num, \" BINARY NUMBER IS - \",n)"
   ]
  },
  {
   "cell_type": "code",
   "execution_count": 25,
   "id": "2afde742",
   "metadata": {},
   "outputs": [
    {
     "name": "stdout",
     "output_type": "stream",
     "text": [
      "ENTER THE DECIMAL NUMBER - 8\n",
      "8  OCTAL NUMBER IS -  0o10\n"
     ]
    }
   ],
   "source": [
    "# convert decimal to octal\n",
    "\n",
    "num = int(input(\"ENTER THE DECIMAL NUMBER - \"))\n",
    "a = oct(num)  # use oct()\n",
    "print(num,\" OCTAL NUMBER IS - \",a)"
   ]
  },
  {
   "cell_type": "code",
   "execution_count": 26,
   "id": "e2ab72bd",
   "metadata": {},
   "outputs": [
    {
     "name": "stdout",
     "output_type": "stream",
     "text": [
      "ENTER THE DECIMAL NUMBER - 16\n",
      "16  HEXADECIMAL NUMBER IS -  0x10\n"
     ]
    }
   ],
   "source": [
    "# convert decimal to hexadecimal\n",
    "\n",
    "num = int(input(\"ENTER THE DECIMAL NUMBER - \"))\n",
    "a = hex(num)  #use hex()\n",
    "print(num,\" HEXADECIMAL NUMBER IS - \",a)"
   ]
  },
  {
   "cell_type": "code",
   "execution_count": 34,
   "id": "22f94e46",
   "metadata": {},
   "outputs": [
    {
     "name": "stdout",
     "output_type": "stream",
     "text": [
      "ENTER THE NUMBER 1 = 10\n",
      "ENTER THE NUMBER 2 = 3\n",
      "ENTER THE OPRATOR  =  %\n",
      "MOD  1\n"
     ]
    }
   ],
   "source": [
    "# build calculater\n",
    "\n",
    "num1 = int(input(\"ENTER THE NUMBER 1 = \"))\n",
    "num2 = int(input(\"ENTER THE NUMBER 2 = \"))\n",
    "opr = input(\"ENTER THE OPRATOR  =  \")\n",
    "if opr=='+':\n",
    "    print(\"ADD \",num1+num2)\n",
    "    \n",
    "elif opr=='-':\n",
    "    print(\"SUB \",num1-num2)\n",
    "elif opr=='*':\n",
    "    print(\"MUL \",num1*num2)\n",
    "elif opr=='/':\n",
    "    print(\"DIV \",num/num2)\n",
    "elif opr=='%':\n",
    "    print(\"MOD \",num1%num2)\n",
    "else:\n",
    "    print('INVALID OPRATOR PLEAS SELECT - + - * / %')\n",
    "    "
   ]
  },
  {
   "cell_type": "code",
   "execution_count": 37,
   "id": "d5900cc8",
   "metadata": {},
   "outputs": [
    {
     "name": "stdout",
     "output_type": "stream",
     "text": [
      "ENTER THE STRING jhghudut\n",
      "length is  8\n"
     ]
    }
   ],
   "source": [
    "# 1 FIND THE LENGTH OF STRING\n",
    "\n",
    "str = input(\"ENTER THE STRING \")\n",
    "a = len(str)\n",
    "print(\"length is \",a)"
   ]
  },
  {
   "cell_type": "code",
   "execution_count": 46,
   "id": "08f07f1b",
   "metadata": {},
   "outputs": [
    {
     "name": "stdout",
     "output_type": "stream",
     "text": [
      "ENTER THE STRING - hello python\n",
      "12\n"
     ]
    }
   ],
   "source": [
    "# 2 FIND THE LENGTH OF STRING\n",
    "\n",
    "\n",
    "str = input(\"ENTER THE STRING - \")\n",
    "count = 0\n",
    "for i in str:\n",
    "    count = count+1\n",
    "print(count)"
   ]
  },
  {
   "cell_type": "code",
   "execution_count": 60,
   "id": "c0f6313c",
   "metadata": {},
   "outputs": [
    {
     "name": "stdout",
     "output_type": "stream",
     "text": [
      "ENTER THE NUMBER - 13\n",
      "ITS A PRIME NUMBER\n"
     ]
    }
   ],
   "source": [
    "# FIND PRIME NUMBER OR COMPOSIT NUMBER\n",
    "\n",
    "num = int(input(\"ENTER THE NUMBER - \"))\n",
    "count = 0\n",
    "i=1\n",
    "while i<=num:\n",
    "    if num%i==0:\n",
    "        count=count+1\n",
    "    i=i+1\n",
    "if count==2:\n",
    "    print(\"ITS A PRIME NUMBER\")\n",
    "elif count>2:\n",
    "    print(\"ITS A COPOSIT NUMBER\")\n",
    "else:\n",
    "    print(\"THE NUMBER IS NEITHER PRIME NOR COPOSITE\")\n",
    "        \n"
   ]
  },
  {
   "cell_type": "code",
   "execution_count": 67,
   "id": "f0dcf39a",
   "metadata": {},
   "outputs": [
    {
     "name": "stdout",
     "output_type": "stream",
     "text": [
      "201\n"
     ]
    }
   ],
   "source": [
    "# FIND SUM OF LIST\n",
    "a = [12,34,34,55,66]\n",
    "sum=0\n",
    "for i in a:\n",
    "    sum=sum+i\n",
    "print(sum)"
   ]
  },
  {
   "cell_type": "code",
   "execution_count": 13,
   "id": "f4978678",
   "metadata": {},
   "outputs": [
    {
     "name": "stdout",
     "output_type": "stream",
     "text": [
      "177\n"
     ]
    }
   ],
   "source": [
    "a = [11,34,54,22,32,12,12]\n",
    "sum=0\n",
    "for i in range(0,len(a)):\n",
    "    sum=sum+a[i]\n",
    "print(sum)"
   ]
  },
  {
   "cell_type": "code",
   "execution_count": 19,
   "id": "ebc88737",
   "metadata": {},
   "outputs": [
    {
     "name": "stdout",
     "output_type": "stream",
     "text": [
      "177\n"
     ]
    }
   ],
   "source": [
    "a = [11,34,54,22,32,12,12]\n",
    "sum=0\n",
    "i=0\n",
    "while i<len(a):\n",
    "    sum=sum+a[i]\n",
    "    i=i+1\n",
    "print(sum)"
   ]
  },
  {
   "cell_type": "code",
   "execution_count": 2,
   "id": "5e6cc847",
   "metadata": {},
   "outputs": [
    {
     "name": "stdout",
     "output_type": "stream",
     "text": [
      "ENTER THE TOTAL ELEMENT YOU WANT INSIDE YOUR LIST - 11\n",
      "11\n",
      "22\n",
      "333\n",
      "44\n",
      "55\n",
      "66\n",
      "77\n",
      "88\n",
      "99\n",
      "00\n",
      "88\n",
      "[11, 22, 333, 44, 55, 66, 77, 88, 99, 0, 88]\n",
      "883\n"
     ]
    }
   ],
   "source": [
    "# user input add data in list\n",
    "lst = []\n",
    "n = int(input(\"ENTER THE TOTAL ELEMENT YOU WANT INSIDE YOUR LIST - \"))\n",
    "for i in range(0,n):\n",
    "    ele=int(input())\n",
    "    lst.append(ele)\n",
    "print(lst)\n",
    "sum=0\n",
    "for j in lst:\n",
    "    sum=sum+j\n",
    "print(sum)"
   ]
  },
  {
   "cell_type": "code",
   "execution_count": 2,
   "id": "5e06b98a",
   "metadata": {},
   "outputs": [
    {
     "name": "stdout",
     "output_type": "stream",
     "text": [
      "enter the number add in list  2\n",
      "enter the data  hello\n",
      "enter the data  python\n",
      "['hello', 'python']\n"
     ]
    }
   ],
   "source": [
    "\n",
    "l = []\n",
    "n = int(input('enter the number add in list  '))\n",
    "for i in range(0,n):\n",
    "    ele = input('enter the data  ')\n",
    "    l.append(ele)\n",
    "print(l)"
   ]
  },
  {
   "cell_type": "code",
   "execution_count": 1,
   "id": "07a6ff33",
   "metadata": {},
   "outputs": [
    {
     "name": "stdout",
     "output_type": "stream",
     "text": [
      "ENTER YOUR NAME ashish\n",
      "ENTER THE AGE 22\n",
      "ashish you born in the 2000 year\n"
     ]
    }
   ],
   "source": [
    "# find the when age will be 100 year old?\n",
    "\n",
    "name = input(\"ENTER YOUR NAME \")\n",
    "age = int(input(\"ENTER THE AGE \"))\n",
    "birth_year=2022-age\n",
    "print(name+\" you born in the \"+str(birth_year)+' year')"
   ]
  },
  {
   "cell_type": "code",
   "execution_count": 3,
   "id": "a944eb7d",
   "metadata": {},
   "outputs": [
    {
     "name": "stdout",
     "output_type": "stream",
     "text": [
      "ENTER YOUR NAME ashish\n",
      "ENTER THE AGE 22\n",
      "ashish you born in the 2000 year\n",
      "ashish you will be 100 year old in 2100 year\n"
     ]
    }
   ],
   "source": [
    "# find the when age will be 100 year old?\n",
    "\n",
    "name = input(\"ENTER YOUR NAME \")\n",
    "age = int(input(\"ENTER THE AGE \"))\n",
    "birth_year=2022-age\n",
    "print(name+\" you born in the \"+str(birth_year)+' year')\n",
    "future_year=birth_year+100\n",
    "print(name+' you will be 100 year old in '+str(future_year)+' year')"
   ]
  },
  {
   "cell_type": "code",
   "execution_count": 5,
   "id": "c9d4cf0a",
   "metadata": {},
   "outputs": [
    {
     "name": "stdout",
     "output_type": "stream",
     "text": [
      "enter the no till what you want the series  5\n",
      "5\n"
     ]
    }
   ],
   "source": [
    "# print fibonacci sequence\n",
    "no = int(input(\"enter the no till what you want the series  \"))\n",
    "a=0\n",
    "b=1\n",
    "c=0\n",
    "i=1\n",
    "while i<no:\n",
    "    c=a+b\n",
    "    a=b\n",
    "    b=c\n",
    "    i=i+1\n",
    "    \n",
    "print(c)"
   ]
  },
  {
   "cell_type": "code",
   "execution_count": 9,
   "id": "17e3e28c",
   "metadata": {},
   "outputs": [
    {
     "name": "stdout",
     "output_type": "stream",
     "text": [
      "enter the string : before\n",
      "3\n",
      "for\n"
     ]
    }
   ],
   "source": [
    "# return middle chr in string\n",
    "\n",
    "st = input(\"enter the string : \")\n",
    "middle = int(len(st)/2)\n",
    "print(middle)\n",
    "print(st[middle-1:middle+2])"
   ]
  },
  {
   "cell_type": "code",
   "execution_count": null,
   "id": "5a2f612a",
   "metadata": {},
   "outputs": [],
   "source": []
  }
 ],
 "metadata": {
  "kernelspec": {
   "display_name": "Python 3 (ipykernel)",
   "language": "python",
   "name": "python3"
  },
  "language_info": {
   "codemirror_mode": {
    "name": "ipython",
    "version": 3
   },
   "file_extension": ".py",
   "mimetype": "text/x-python",
   "name": "python",
   "nbconvert_exporter": "python",
   "pygments_lexer": "ipython3",
   "version": "3.9.13"
  }
 },
 "nbformat": 4,
 "nbformat_minor": 5
}
