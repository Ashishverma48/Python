{
 "cells": [
  {
   "cell_type": "code",
   "execution_count": 1,
   "id": "62cc03ca",
   "metadata": {},
   "outputs": [],
   "source": [
    "# Single Inheritence\n",
    "\n",
    "class pc:    # parent class\n",
    "    def myfun(self):    # parent class property\n",
    "        print(\"PARENT CLASS CALLED  \")\n",
    "        \n",
    "class cc(pc):   # child class\n",
    "    def  myfun1(self): \n",
    "        print(\"CHILD CLASS CALLED  \")\n",
    "        \n",
    "# creating an object of child class\n",
    "\n",
    "a=cc()"
   ]
  },
  {
   "cell_type": "code",
   "execution_count": 3,
   "id": "a7d9e27c",
   "metadata": {},
   "outputs": [
    {
     "name": "stdout",
     "output_type": "stream",
     "text": [
      "PARENT CLASS CALLED  \n"
     ]
    }
   ],
   "source": [
    "a.myfun()"
   ]
  },
  {
   "cell_type": "code",
   "execution_count": 4,
   "id": "5f5084d7",
   "metadata": {},
   "outputs": [
    {
     "name": "stdout",
     "output_type": "stream",
     "text": [
      "CHILD CLASS CALLED  \n"
     ]
    }
   ],
   "source": [
    "a.myfun1()"
   ]
  },
  {
   "cell_type": "code",
   "execution_count": 12,
   "id": "ee2678b3",
   "metadata": {},
   "outputs": [],
   "source": [
    "# multilevel inheritence\n",
    "\n",
    "class a:\n",
    "    def myfun1(self):\n",
    "        print(\"class a call  \")\n",
    "\n",
    "class b(a):\n",
    "    def myfun2(self):\n",
    "        print(\"class b call  \")\n",
    "        \n",
    "        \n",
    "class c(b):\n",
    "    def myfun3(self):\n",
    "        print(\"class c call  \")\n",
    "    \n",
    "a = c()"
   ]
  },
  {
   "cell_type": "code",
   "execution_count": 17,
   "id": "72dc26d3",
   "metadata": {},
   "outputs": [
    {
     "name": "stdout",
     "output_type": "stream",
     "text": [
      "class a call  \n"
     ]
    }
   ],
   "source": [
    "a.myfun1()"
   ]
  },
  {
   "cell_type": "code",
   "execution_count": 18,
   "id": "1abc35c2",
   "metadata": {},
   "outputs": [
    {
     "name": "stdout",
     "output_type": "stream",
     "text": [
      "class b call  \n"
     ]
    }
   ],
   "source": [
    "a.myfun2()"
   ]
  },
  {
   "cell_type": "code",
   "execution_count": 23,
   "id": "ccdeb36c",
   "metadata": {},
   "outputs": [],
   "source": [
    "# MULTIPLE INHERITENCE  \n",
    "\n",
    "class a1:   # first parent class\n",
    "    def myfun1(self):\n",
    "        print(\"class a1 function called\")\n",
    "        \n",
    "class b1:  # second parent class\n",
    "    def myfun2(self):\n",
    "        print(\"class b1 function called \")\n",
    "\n",
    "class c1(a1,b1):  # child class\n",
    "    def myfun3(self):\n",
    "        print(\"class c1 function called \")\n",
    "        \n",
    "a = c1()"
   ]
  },
  {
   "cell_type": "code",
   "execution_count": 26,
   "id": "e9db915b",
   "metadata": {},
   "outputs": [
    {
     "name": "stdout",
     "output_type": "stream",
     "text": [
      "class c1 function called \n"
     ]
    }
   ],
   "source": [
    "a.myfun3()"
   ]
  },
  {
   "cell_type": "code",
   "execution_count": 37,
   "id": "a69be3de",
   "metadata": {},
   "outputs": [],
   "source": [
    "#  HIERARCHICAL INHERITENCE\n",
    "\n",
    "class pc:   # parent class\n",
    "    def fun1(self):\n",
    "        print(\"class pc function called \")\n",
    "    \n",
    "class cc1(pc):   # first child class\n",
    "    def fun2(self):\n",
    "        print(\"class cc1 function called \")\n",
    "        \n",
    "class cc2(pc):   # second child called\n",
    "    def fun3(self):\n",
    "        print(\"class cc2 function called \")\n",
    "        \n",
    "# creating two onject 1 for class cc1 and 1 for class cc2\n",
    "\n",
    "a1 = cc1()\n",
    "a2 = cc2()\n"
   ]
  },
  {
   "cell_type": "code",
   "execution_count": 44,
   "id": "86114218",
   "metadata": {},
   "outputs": [
    {
     "name": "stdout",
     "output_type": "stream",
     "text": [
      "class pc function called \n"
     ]
    }
   ],
   "source": [
    "a2.fun1()\n"
   ]
  },
  {
   "cell_type": "code",
   "execution_count": 55,
   "id": "d19ac924",
   "metadata": {},
   "outputs": [],
   "source": [
    "#  HYBRIDE INHERITENCE \n",
    "\n",
    "class pc:   # parent class\n",
    "    def fun1(self):\n",
    "        print(\"FUNCTION OF CLASS PC \")\n",
    "        \n",
    "class cc1(pc):  # FIRST CHILD CLASS\n",
    "    def fun2(self):\n",
    "        print(\"FUNCTION OF CLASS CC1 \")\n",
    "        \n",
    "class cc2(pc):  # SECOND CHILD CLASS\n",
    "    def fun3(self):\n",
    "        print(\"FUNCTION OF CLASS CC2 \")\n",
    "        \n",
    "class cc3(cc1,cc2):  # THIRD CHILD CLASS\n",
    "    def fun4(self):\n",
    "        print(\"FUNCTION OF CLASS CC3 \")\n",
    "\n",
    "# creating an object of class cc3\n",
    "\n",
    "a=cc3()"
   ]
  },
  {
   "cell_type": "code",
   "execution_count": 56,
   "id": "2032f2e8",
   "metadata": {},
   "outputs": [
    {
     "name": "stdout",
     "output_type": "stream",
     "text": [
      "FUNCTION OF CLASS PC \n"
     ]
    }
   ],
   "source": [
    "a.fun1()"
   ]
  },
  {
   "cell_type": "code",
   "execution_count": 57,
   "id": "58f62629",
   "metadata": {},
   "outputs": [
    {
     "name": "stdout",
     "output_type": "stream",
     "text": [
      "FUNCTION OF CLASS CC1 \n"
     ]
    }
   ],
   "source": [
    "a.fun2()"
   ]
  },
  {
   "cell_type": "code",
   "execution_count": 58,
   "id": "38bf85bc",
   "metadata": {},
   "outputs": [
    {
     "name": "stdout",
     "output_type": "stream",
     "text": [
      "FUNCTION OF CLASS CC2 \n"
     ]
    }
   ],
   "source": [
    "a.fun3()"
   ]
  },
  {
   "cell_type": "code",
   "execution_count": 59,
   "id": "48e09433",
   "metadata": {},
   "outputs": [
    {
     "name": "stdout",
     "output_type": "stream",
     "text": [
      "FUNCTION OF CLASS CC3 \n"
     ]
    }
   ],
   "source": [
    "a.fun4()"
   ]
  },
  {
   "cell_type": "code",
   "execution_count": null,
   "id": "b0cfcaff",
   "metadata": {},
   "outputs": [],
   "source": []
  }
 ],
 "metadata": {
  "kernelspec": {
   "display_name": "Python 3 (ipykernel)",
   "language": "python",
   "name": "python3"
  },
  "language_info": {
   "codemirror_mode": {
    "name": "ipython",
    "version": 3
   },
   "file_extension": ".py",
   "mimetype": "text/x-python",
   "name": "python",
   "nbconvert_exporter": "python",
   "pygments_lexer": "ipython3",
   "version": "3.9.13"
  }
 },
 "nbformat": 4,
 "nbformat_minor": 5
}
