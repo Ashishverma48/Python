{
 "cells": [
  {
   "cell_type": "code",
   "execution_count": 2,
   "id": "c07093f8",
   "metadata": {},
   "outputs": [],
   "source": [
    "# creating class\n",
    "class Phone:\n",
    "    def make_call(self):  \n",
    "        print(\"i am making a call\")\n",
    "    def  play_game(self):\n",
    "        print(\"Playing game\")\n",
    "\n",
    "p=Phone()        "
   ]
  },
  {
   "cell_type": "code",
   "execution_count": 4,
   "id": "b26fe351",
   "metadata": {},
   "outputs": [
    {
     "name": "stdout",
     "output_type": "stream",
     "text": [
      "i am making a call\n"
     ]
    }
   ],
   "source": [
    "p.make_call()\n"
   ]
  },
  {
   "cell_type": "code",
   "execution_count": 5,
   "id": "fe9c4ee8",
   "metadata": {},
   "outputs": [
    {
     "name": "stdout",
     "output_type": "stream",
     "text": [
      "Playing game\n"
     ]
    }
   ],
   "source": [
    "p.play_game()"
   ]
  },
  {
   "cell_type": "code",
   "execution_count": 16,
   "id": "03504ac4",
   "metadata": {},
   "outputs": [],
   "source": [
    "#2\n",
    "\n",
    "class Phone:\n",
    "    def set_color(self,color):\n",
    "        self.color=color\n",
    "    def set_cost(self,cost):\n",
    "        self.cost=cost\n",
    "    def show_color(self):\n",
    "        return self.color\n",
    "    def show_cost(self):\n",
    "        return self.cost\n",
    "x=Phone()\n",
    "x.set_color('red')"
   ]
  },
  {
   "cell_type": "code",
   "execution_count": 20,
   "id": "8d2e2da2",
   "metadata": {},
   "outputs": [],
   "source": [
    "x.set_cost(2453643)\n"
   ]
  },
  {
   "cell_type": "code",
   "execution_count": 21,
   "id": "b6d4b1ee",
   "metadata": {},
   "outputs": [
    {
     "data": {
      "text/plain": [
       "2453643"
      ]
     },
     "execution_count": 21,
     "metadata": {},
     "output_type": "execute_result"
    }
   ],
   "source": [
    "x.show_cost()"
   ]
  },
  {
   "cell_type": "code",
   "execution_count": null,
   "id": "317870fa",
   "metadata": {},
   "outputs": [],
   "source": [
    "# contructure\n",
    "\n",
    "class Emp:\n",
    "    def __init__(self,name,age,sal,gender):\n",
    "        self.name=name\n",
    "        self.age=age\n",
    "        self.sal=sal\n",
    "        self.gender=gender\n",
    "        \n",
    "    def show_details(self):\n",
    "        print(\"name of emp is \",self.name)\n",
    "        print(\"age of emp is \",self.sal)\n",
    "        print(\"sal of \")\n",
    "        "
   ]
  }
 ],
 "metadata": {
  "kernelspec": {
   "display_name": "Python 3 (ipykernel)",
   "language": "python",
   "name": "python3"
  },
  "language_info": {
   "codemirror_mode": {
    "name": "ipython",
    "version": 3
   },
   "file_extension": ".py",
   "mimetype": "text/x-python",
   "name": "python",
   "nbconvert_exporter": "python",
   "pygments_lexer": "ipython3",
   "version": "3.9.13"
  }
 },
 "nbformat": 4,
 "nbformat_minor": 5
}
