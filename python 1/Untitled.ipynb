{
 "cells": [
  {
   "cell_type": "code",
   "execution_count": 15,
   "id": "ea235062",
   "metadata": {},
   "outputs": [
    {
     "name": "stdout",
     "output_type": "stream",
     "text": [
      "1\n"
     ]
    }
   ],
   "source": [
    "def mul(n):\n",
    "    mul=1\n",
    "    for i in n:\n",
    "        mul=mul*1\n",
    "        return mul\n",
    "print(mul((12,23,33)))"
   ]
  },
  {
   "cell_type": "code",
   "execution_count": 14,
   "id": "6beb485e",
   "metadata": {},
   "outputs": [
    {
     "data": {
      "text/plain": [
       "1"
      ]
     },
     "execution_count": 14,
     "metadata": {},
     "output_type": "execute_result"
    }
   ],
   "source": [
    "def mul(n):\n",
    "    mul=1\n",
    "    for i in n:\n",
    "        mul=mul*1\n",
    "        return mul\n",
    "mul((12,23,33))"
   ]
  },
  {
   "cell_type": "code",
   "execution_count": null,
   "id": "51ec3182",
   "metadata": {},
   "outputs": [],
   "source": []
  }
 ],
 "metadata": {
  "kernelspec": {
   "display_name": "Python 3 (ipykernel)",
   "language": "python",
   "name": "python3"
  },
  "language_info": {
   "codemirror_mode": {
    "name": "ipython",
    "version": 3
   },
   "file_extension": ".py",
   "mimetype": "text/x-python",
   "name": "python",
   "nbconvert_exporter": "python",
   "pygments_lexer": "ipython3",
   "version": "3.9.13"
  }
 },
 "nbformat": 4,
 "nbformat_minor": 5
}
