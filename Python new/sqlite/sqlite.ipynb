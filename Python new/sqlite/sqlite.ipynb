{
 "cells": [
  {
   "cell_type": "code",
   "execution_count": 1,
   "id": "c30fd57b",
   "metadata": {},
   "outputs": [
    {
     "ename": "OperationalError",
     "evalue": "table manager already exists",
     "output_type": "error",
     "traceback": [
      "\u001b[1;31m---------------------------------------------------------------------------\u001b[0m",
      "\u001b[1;31mOperationalError\u001b[0m                          Traceback (most recent call last)",
      "\u001b[1;32m~\\AppData\\Local\\Temp\\ipykernel_21276\\980069722.py\u001b[0m in \u001b[0;36m<module>\u001b[1;34m\u001b[0m\n\u001b[0;32m     12\u001b[0m \u001b[1;33m\u001b[0m\u001b[0m\n\u001b[0;32m     13\u001b[0m     )\"\"\"\n\u001b[1;32m---> 14\u001b[1;33m \u001b[0mcursor\u001b[0m\u001b[1;33m.\u001b[0m\u001b[0mexecute\u001b[0m\u001b[1;33m(\u001b[0m\u001b[0mquery\u001b[0m\u001b[1;33m)\u001b[0m\u001b[1;33m\u001b[0m\u001b[1;33m\u001b[0m\u001b[0m\n\u001b[0m\u001b[0;32m     15\u001b[0m \u001b[1;31m# con.commit()\u001b[0m\u001b[1;33m\u001b[0m\u001b[1;33m\u001b[0m\u001b[0m\n\u001b[0;32m     16\u001b[0m \u001b[0mcon\u001b[0m\u001b[1;33m.\u001b[0m\u001b[0mclose\u001b[0m\u001b[1;33m(\u001b[0m\u001b[1;33m)\u001b[0m\u001b[1;33m\u001b[0m\u001b[1;33m\u001b[0m\u001b[0m\n",
      "\u001b[1;31mOperationalError\u001b[0m: table manager already exists"
     ]
    }
   ],
   "source": [
    "# CREATE DTABASASE AND TABLE IN SQLITE3\n",
    "\n",
    "import sqlite3\n",
    "con = sqlite3.connect('employee.db')\n",
    "cursor= con.cursor()\n",
    "query = \"\"\"\n",
    "    create table manager(\n",
    "    MANAGER_ID int,\n",
    "    FIRST_NAME varchar(20),\n",
    "    LAST_NAME varchar(20),\n",
    "    LAST_UPDATE DATE\n",
    "    \n",
    "    )\"\"\"\n",
    "cursor.execute(query)\n",
    "# con.commit()\n",
    "con.close()\n"
   ]
  },
  {
   "cell_type": "code",
   "execution_count": null,
   "id": "edb1cda7",
   "metadata": {},
   "outputs": [],
   "source": [
    "# INSERT DATA IN TABLE\n",
    "\n",
    "import sqlite3\n",
    "con = sqlite3.connect('employee.db')\n",
    "\n",
    "manager_id = int(input(\"ENTER MANAGER ID : \"))\n",
    "first_name = input(\"ENTER FIRST NAME : \")\n",
    "last_name = input('ENTER LAST NAME : ')\n",
    "last_update = int(input(\"ENTER LAST UPDATE DATE (YYYY/MM/DD) : \")\n",
    "                   \n",
    "cursor= con.cursor()                 \n",
    "                  \n",
    "query = f\"\"\"\n",
    "    INSERT INTO manager(MANAGER_ID,FIRST_NAME,LAST_NAME,LAST_UPDATE) VALUES\n",
    "    ({manager_id},\"{first_name}\",\"{last_name}\",{last_update})\n",
    "    \n",
    "     \"\"\"\n",
    "cursor.execute(query)\n",
    "con.close()"
   ]
  },
  {
   "cell_type": "code",
   "execution_count": 5,
   "id": "6113a5fe",
   "metadata": {},
   "outputs": [
    {
     "ename": "SyntaxError",
     "evalue": "invalid syntax (1126882075.py, line 16)",
     "output_type": "error",
     "traceback": [
      "\u001b[1;36m  File \u001b[1;32m\"C:\\Users\\ashis\\AppData\\Local\\Temp\\ipykernel_21276\\1126882075.py\"\u001b[1;36m, line \u001b[1;32m16\u001b[0m\n\u001b[1;33m    query = \"\"\"\u001b[0m\n\u001b[1;37m    ^\u001b[0m\n\u001b[1;31mSyntaxError\u001b[0m\u001b[1;31m:\u001b[0m invalid syntax\n"
     ]
    }
   ],
   "source": [
    "# INSERT DATA IN TABLE\n",
    "\n",
    "import sqlite3\n",
    "con = sqlite3.connect('employee.db')\n",
    "\n",
    "                   \n",
    "my_cursor = con.cursor() \n",
    "\n",
    "manager_id = int(input(\"ENTER MANAGER ID : \"))\n",
    "first_name = input(\"ENTER FIRST NAME : \")\n",
    "last_name = input('ENTER LAST NAME : ')\n",
    "last_update = int(input(\"ENTER LAST UPDATE DATE (YYYY/MM/DD) : \")\n",
    "\n",
    "                  \n",
    "                  \n",
    "query = \"\"\"\n",
    "        INSERT INTO \n",
    "        manager(MANAGER_ID,FIRST_NAME,LAST_NAME,LAST_UPDATE)\n",
    "        VALUES\n",
    "        (11,'ram','kumar',2121/11/21)\n",
    "        \n",
    "    \n",
    "         \"\"\"\n",
    "my_cursor.execute(query)\n",
    "con.close()"
   ]
  },
  {
   "cell_type": "code",
   "execution_count": null,
   "id": "6b0b3f78",
   "metadata": {},
   "outputs": [],
   "source": [
    "({manager_id},\"{first_name}\",\"{last_name}\",{last_update})"
   ]
  },
  {
   "cell_type": "code",
   "execution_count": null,
   "id": "c2e00dc7",
   "metadata": {},
   "outputs": [],
   "source": []
  }
 ],
 "metadata": {
  "kernelspec": {
   "display_name": "Python 3 (ipykernel)",
   "language": "python",
   "name": "python3"
  },
  "language_info": {
   "codemirror_mode": {
    "name": "ipython",
    "version": 3
   },
   "file_extension": ".py",
   "mimetype": "text/x-python",
   "name": "python",
   "nbconvert_exporter": "python",
   "pygments_lexer": "ipython3",
   "version": "3.9.13"
  }
 },
 "nbformat": 4,
 "nbformat_minor": 5
}
