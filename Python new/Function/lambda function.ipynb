{
 "cells": [
  {
   "cell_type": "markdown",
   "id": "d1e29225",
   "metadata": {},
   "source": [
    "# Lambda function\n"
   ]
  },
  {
   "cell_type": "code",
   "execution_count": 1,
   "id": "f7e5c16d",
   "metadata": {},
   "outputs": [
    {
     "data": {
      "text/plain": [
       "10648"
      ]
     },
     "execution_count": 1,
     "metadata": {},
     "output_type": "execute_result"
    }
   ],
   "source": [
    "#Creting lambda function \n",
    "a = lambda x:x**3\n",
    "\n",
    "# calling lambda function \n",
    "a(22)"
   ]
  },
  {
   "cell_type": "code",
   "execution_count": 2,
   "id": "0fda1236",
   "metadata": {},
   "outputs": [
    {
     "data": {
      "text/plain": [
       "19049"
      ]
     },
     "execution_count": 2,
     "metadata": {},
     "output_type": "execute_result"
    }
   ],
   "source": [
    "n = lambda x,y:x*y\n",
    "n(443,43)"
   ]
  },
  {
   "cell_type": "markdown",
   "id": "51570e46",
   "metadata": {},
   "source": [
    "# Map lambda function\n"
   ]
  },
  {
   "cell_type": "code",
   "execution_count": 3,
   "id": "a0a7d039",
   "metadata": {},
   "outputs": [
    {
     "name": "stdout",
     "output_type": "stream",
     "text": [
      "[121, 484, 1089, 1936, 3025, 4356, 5929, 7744, 1849, 20657025]\n"
     ]
    }
   ],
   "source": [
    "li = [11,22,33,44,55,66,77,88,43,4545]\n",
    "result = list(map(lambda x:x**2,li))\n",
    "print(result )"
   ]
  },
  {
   "cell_type": "markdown",
   "id": "cb94baf4",
   "metadata": {},
   "source": []
  },
  {
   "cell_type": "markdown",
   "id": "9ad40779",
   "metadata": {},
   "source": [
    "# filter lambda function"
   ]
  },
  {
   "cell_type": "code",
   "execution_count": 4,
   "id": "85afe9f5",
   "metadata": {},
   "outputs": [
    {
     "data": {
      "text/plain": [
       "[22, 44, 66, 88]"
      ]
     },
     "execution_count": 4,
     "metadata": {},
     "output_type": "execute_result"
    }
   ],
   "source": [
    "n = list(filter(lambda x: x%2==0 ,li))\n",
    "n"
   ]
  },
  {
   "cell_type": "markdown",
   "id": "32bbc5a7",
   "metadata": {},
   "source": [
    "# reduce lambda function"
   ]
  },
  {
   "cell_type": "code",
   "execution_count": 6,
   "id": "bd577e35",
   "metadata": {},
   "outputs": [
    {
     "name": "stdout",
     "output_type": "stream",
     "text": [
      "136\n"
     ]
    }
   ],
   "source": [
    "li1 = [11,22,33,4,5,6,6,7,5,3,1,22,11]\n",
    "from functools import reduce\n",
    "a= reduce(lambda x,y:x+y,li1)\n",
    "print(a)"
   ]
  },
  {
   "cell_type": "code",
   "execution_count": null,
   "id": "29f44389",
   "metadata": {},
   "outputs": [],
   "source": []
  },
  {
   "cell_type": "code",
   "execution_count": null,
   "id": "cadccc04",
   "metadata": {},
   "outputs": [],
   "source": []
  }
 ],
 "metadata": {
  "kernelspec": {
   "display_name": "Python 3 (ipykernel)",
   "language": "python",
   "name": "python3"
  },
  "language_info": {
   "codemirror_mode": {
    "name": "ipython",
    "version": 3
   },
   "file_extension": ".py",
   "mimetype": "text/x-python",
   "name": "python",
   "nbconvert_exporter": "python",
   "pygments_lexer": "ipython3",
   "version": "3.9.13"
  }
 },
 "nbformat": 4,
 "nbformat_minor": 5
}
