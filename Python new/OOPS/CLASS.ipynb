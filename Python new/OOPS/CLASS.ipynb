{
 "cells": [
  {
   "cell_type": "markdown",
   "id": "1059cd12",
   "metadata": {},
   "source": [
    "# CREATING A CLASS"
   ]
  },
  {
   "cell_type": "code",
   "execution_count": 12,
   "id": "2a0f0bd1",
   "metadata": {},
   "outputs": [
    {
     "name": "stdout",
     "output_type": "stream",
     "text": [
      "My Name is :  ASHISH VERMA\n",
      "Id is :  22\n",
      "My age is :  22\n",
      "My Salary is :  28947238\n"
     ]
    }
   ],
   "source": [
    "class Emp:\n",
    "    def __init__(self,name,emp_id,age,salary):\n",
    "        \n",
    "#         DATA MEMBERS(INSTANCE VARIABLE)\n",
    "\n",
    "        self.name= name\n",
    "        self.emp_id =emp_id\n",
    "        self.age= age\n",
    "        self.salary = salary\n",
    "        \n",
    "#         BEHAVIOR (INSTANCE METHOD)\n",
    "        \n",
    "    def display(self):\n",
    "        print(\"My Name is : \",self.name)\n",
    "        print(\"Id is : \",self.emp_id)\n",
    "        print(\"My age is : \",self.age)\n",
    "        print(\"My Salary is : \",self.salary)\n",
    "\n",
    "        \n",
    "#CRAETING A OBJECT        \n",
    "\n",
    "x = Emp('ASHISH VERMA',22,22,28947238)\n",
    "\n",
    "x.display()"
   ]
  },
  {
   "cell_type": "code",
   "execution_count": 1,
   "id": "4a9307be",
   "metadata": {},
   "outputs": [
    {
     "name": "stdout",
     "output_type": "stream",
     "text": [
      "\n",
      "        THIS MOBILE IS :- APPLE \n",
      "        MODEL IS :- IPHONE 14 \n",
      "        AND PRICE IS :- 120000\n",
      "        \n",
      "IPHONE 14 is very high gaming speed\n",
      " APPLE BATTARY BACKUP IS UPTO 36HR\n"
     ]
    }
   ],
   "source": [
    "#  Mobile class\n",
    "\n",
    "class Mobile:\n",
    "    def __init__(self,brand,model,price):\n",
    "        self.brand=brand\n",
    "        self.model=model\n",
    "        self.price=price\n",
    "    def show(self):\n",
    "        print(f\"\"\"\n",
    "        THIS MOBILE IS :- {self.brand} \n",
    "        MODEL IS :- {self.model} \n",
    "        AND PRICE IS :- {self.price}\n",
    "        \"\"\")\n",
    "    def feature(self):\n",
    "        print(f\"{self.model} is very high gaming speed\")\n",
    "        print(f\" {self.brand} BATTARY BACKUP IS UPTO 36HR\")\n",
    "        \n",
    "         \n",
    "        \n",
    "mobile = Mobile('APPLE','IPHONE 14',120000)\n",
    "\n",
    "\n",
    "# delete object properties\n",
    "\n",
    "# del mobile.model\n",
    "\n",
    "mobile.show()\n",
    "mobile.feature()\n",
    "        "
   ]
  },
  {
   "cell_type": "code",
   "execution_count": 21,
   "id": "42d9617a",
   "metadata": {},
   "outputs": [
    {
     "data": {
      "text/plain": [
       "('APPLE', 'IPHONE 14', 120000)"
      ]
     },
     "execution_count": 21,
     "metadata": {},
     "output_type": "execute_result"
    }
   ],
   "source": [
    "mobile.brand,mobile.model,mobile.price"
   ]
  },
  {
   "cell_type": "code",
   "execution_count": null,
   "id": "1193b861",
   "metadata": {},
   "outputs": [],
   "source": []
  }
 ],
 "metadata": {
  "kernelspec": {
   "display_name": "Python 3 (ipykernel)",
   "language": "python",
   "name": "python3"
  },
  "language_info": {
   "codemirror_mode": {
    "name": "ipython",
    "version": 3
   },
   "file_extension": ".py",
   "mimetype": "text/x-python",
   "name": "python",
   "nbconvert_exporter": "python",
   "pygments_lexer": "ipython3",
   "version": "3.9.13"
  }
 },
 "nbformat": 4,
 "nbformat_minor": 5
}
