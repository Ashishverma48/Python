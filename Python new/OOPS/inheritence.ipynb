{
 "cells": [
  {
   "cell_type": "code",
   "execution_count": 10,
   "id": "dcf565f7",
   "metadata": {},
   "outputs": [
    {
     "name": "stdout",
     "output_type": "stream",
     "text": [
      "THIS IS SUPER CLASS\n"
     ]
    }
   ],
   "source": [
    "class Car():\n",
    "    def show(self):\n",
    "        print(\"THIS IS SUPER CLASS\")\n",
    "        \n",
    "class Bike(Car):\n",
    "    def carShow(self):\n",
    "        print(\"THIS IS CHILD CLASS\")\n",
    "        \n",
    "c =Bike()\n",
    "c.show()"
   ]
  },
  {
   "cell_type": "code",
   "execution_count": 6,
   "id": "2110d8e5",
   "metadata": {},
   "outputs": [
    {
     "name": "stdout",
     "output_type": "stream",
     "text": [
      "x is {x} \n"
     ]
    }
   ],
   "source": []
  },
  {
   "cell_type": "code",
   "execution_count": null,
   "id": "57470159",
   "metadata": {},
   "outputs": [],
   "source": []
  }
 ],
 "metadata": {
  "kernelspec": {
   "display_name": "Python 3 (ipykernel)",
   "language": "python",
   "name": "python3"
  },
  "language_info": {
   "codemirror_mode": {
    "name": "ipython",
    "version": 3
   },
   "file_extension": ".py",
   "mimetype": "text/x-python",
   "name": "python",
   "nbconvert_exporter": "python",
   "pygments_lexer": "ipython3",
   "version": "3.9.13"
  }
 },
 "nbformat": 4,
 "nbformat_minor": 5
}
