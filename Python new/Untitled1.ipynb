{
 "cells": [
  {
   "cell_type": "code",
   "execution_count": 12,
   "id": "7ab92b90",
   "metadata": {},
   "outputs": [
    {
     "name": "stdout",
     "output_type": "stream",
     "text": [
      "[0, 1, 2, 3, 4, 5, 6, 7, 8, 9, 10]\n"
     ]
    },
    {
     "data": {
      "text/plain": [
       "55"
      ]
     },
     "execution_count": 12,
     "metadata": {},
     "output_type": "execute_result"
    }
   ],
   "source": [
    "a =  list(range(11))\n",
    "print(a)\n",
    "\n",
    "def simpleArraySum(ar):\n",
    "    # Write your code here\n",
    "    \n",
    "    sum = 0\n",
    "    for i in ar:\n",
    "        sum = sum+i\n",
    "        \n",
    "        \n",
    "    return sum\n",
    "simpleArraySum(a)"
   ]
  },
  {
   "cell_type": "code",
   "execution_count": 16,
   "id": "38c6018f",
   "metadata": {},
   "outputs": [
    {
     "data": {
      "text/plain": [
       "[10, 9, 8, 7, 6, 5, 4, 3, 2]"
      ]
     },
     "execution_count": 16,
     "metadata": {},
     "output_type": "execute_result"
    }
   ],
   "source": [
    "list(range(10,1,-1))"
   ]
  },
  {
   "cell_type": "code",
   "execution_count": 17,
   "id": "ed2cc9fa",
   "metadata": {},
   "outputs": [
    {
     "name": "stdout",
     "output_type": "stream",
     "text": [
      "2048639003248\n"
     ]
    }
   ],
   "source": [
    "x = 11\n",
    "print(id(x))"
   ]
  },
  {
   "cell_type": "code",
   "execution_count": 21,
   "id": "b49ca98f",
   "metadata": {},
   "outputs": [
    {
     "name": "stdout",
     "output_type": "stream",
     "text": [
      "5\n",
      "7\n",
      "9\n",
      "16.5\n"
     ]
    }
   ],
   "source": [
    "first = int(input())\n",
    "second = int(input())\n",
    "third= int(input())\n",
    "result = first+second+third/2\n",
    "print(result)"
   ]
  },
  {
   "cell_type": "code",
   "execution_count": 22,
   "id": "0e6358e4",
   "metadata": {},
   "outputs": [
    {
     "name": "stdout",
     "output_type": "stream",
     "text": [
      "3\n",
      "4\n",
      "6\n",
      "4.333333333333333\n"
     ]
    }
   ],
   "source": [
    "first = int(input())\n",
    "second = int(input())\n",
    "third= int(input())\n",
    "result = first+second+third\n",
    "avg = result/3\n",
    "print(avg)"
   ]
  },
  {
   "cell_type": "code",
   "execution_count": 23,
   "id": "33ac5d68",
   "metadata": {},
   "outputs": [
    {
     "name": "stdout",
     "output_type": "stream",
     "text": [
      "10\n",
      "4\n",
      "10000\n"
     ]
    }
   ],
   "source": [
    "num = int(input())\n",
    "power = int(input())\n",
    "result = num**power\n",
    "print(result)"
   ]
  },
  {
   "cell_type": "code",
   "execution_count": null,
   "id": "e901f7e1",
   "metadata": {},
   "outputs": [],
   "source": []
  }
 ],
 "metadata": {
  "kernelspec": {
   "display_name": "Python 3 (ipykernel)",
   "language": "python",
   "name": "python3"
  },
  "language_info": {
   "codemirror_mode": {
    "name": "ipython",
    "version": 3
   },
   "file_extension": ".py",
   "mimetype": "text/x-python",
   "name": "python",
   "nbconvert_exporter": "python",
   "pygments_lexer": "ipython3",
   "version": "3.9.13"
  }
 },
 "nbformat": 4,
 "nbformat_minor": 5
}
