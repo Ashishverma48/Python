{
 "cells": [
  {
   "cell_type": "markdown",
   "id": "8b1ad4e8",
   "metadata": {},
   "source": [
    "\n",
    "# List Question\n"
   ]
  },
  {
   "cell_type": "code",
   "execution_count": 10,
   "id": "da1ddcc3",
   "metadata": {},
   "outputs": [
    {
     "name": "stdout",
     "output_type": "stream",
     "text": [
      "[3, 2, 1, 4, 5, 6]\n"
     ]
    }
   ],
   "source": [
    "#Python programme to swap two number elements in a list?\n",
    "\n",
    "a = [1,2,3,4,5,6]\n",
    "a[0],a[2]=a[2],a[0]\n",
    "print(a)"
   ]
  },
  {
   "cell_type": "code",
   "execution_count": 11,
   "id": "ed188d09",
   "metadata": {},
   "outputs": [
    {
     "name": "stdout",
     "output_type": "stream",
     "text": [
      "398\n"
     ]
    }
   ],
   "source": [
    "#Maximum of number in a list\n",
    "a = [2,33,56,1,55,8,4,398,44]\n",
    "print(max(a))"
   ]
  },
  {
   "cell_type": "code",
   "execution_count": 12,
   "id": "d288439a",
   "metadata": {},
   "outputs": [
    {
     "name": "stdout",
     "output_type": "stream",
     "text": [
      "1\n"
     ]
    }
   ],
   "source": [
    "#Minimum of number in list\n",
    "print(min(a))"
   ]
  },
  {
   "cell_type": "code",
   "execution_count": 16,
   "id": "83b25627",
   "metadata": {},
   "outputs": [
    {
     "name": "stdout",
     "output_type": "stream",
     "text": [
      "Sum of number is : 601\n"
     ]
    }
   ],
   "source": [
    "# Python sum of number digit in list\n",
    "\n",
    "total = 0\n",
    "\n",
    "a = [2,33,56,1,55,8,4,398,44]\n",
    "for i in a:\n",
    "    total=total+i\n",
    "print('Sum of number is :',total)"
   ]
  },
  {
   "cell_type": "code",
   "execution_count": 20,
   "id": "83962967",
   "metadata": {},
   "outputs": [
    {
     "name": "stdout",
     "output_type": "stream",
     "text": [
      "2\n",
      "66\n",
      "3696\n",
      "3696\n",
      "203280\n",
      "1626240\n",
      "6504960\n",
      "2588974080\n",
      "113914859520\n"
     ]
    }
   ],
   "source": [
    "# Multiply of all numberinn list\n",
    "mul = 1\n",
    "a = [2,33,56,1,55,8,4,398,44]\n",
    "for i in a:\n",
    "    mul = mul*i\n",
    "    \n",
    "    print(mul)"
   ]
  },
  {
   "cell_type": "code",
   "execution_count": 27,
   "id": "1012189e",
   "metadata": {},
   "outputs": [
    {
     "data": {
      "text/plain": [
       "56"
      ]
     },
     "execution_count": 27,
     "metadata": {},
     "output_type": "execute_result"
    }
   ],
   "source": [
    "a = [2,33,56,1,55,8,4,398,44]\n",
    "a.sort()\n",
    "a[-2]\n"
   ]
  },
  {
   "cell_type": "code",
   "execution_count": 40,
   "id": "0833c51e",
   "metadata": {},
   "outputs": [
    {
     "name": "stdout",
     "output_type": "stream",
     "text": [
      "Even number is :  10\n",
      "Odd Number is :  8\n"
     ]
    }
   ],
   "source": [
    "#python progrmme to count even and odd number in list?\n",
    "\n",
    "even = 0\n",
    "odd = 0\n",
    "a = [2,33,56,1,55,8,4,398,44,0,3,33,3,223,234,26,65446,4545,]\n",
    "for i in a:\n",
    "    if(i%2==0):\n",
    "        even = even+1\n",
    "        \n",
    "    else:\n",
    "        odd = odd+1\n",
    "        \n",
    "print('Even number is : ',even)\n",
    "print('Odd Number is : ',odd)"
   ]
  },
  {
   "cell_type": "code",
   "execution_count": 42,
   "id": "4cbc63a4",
   "metadata": {},
   "outputs": [
    {
     "name": "stdout",
     "output_type": "stream",
     "text": [
      "Positive Number Is :  2\n",
      "Positive Number Is :  33\n",
      "Positive Number Is :  56\n",
      "Positive Number Is :  1\n",
      "Positive Number Is :  55\n",
      "Positive Number Is :  8\n",
      "Positive Number Is :  4\n",
      "Positive Number Is :  398\n",
      "Positive Number Is :  44\n",
      "Positive Number Is :  43\n"
     ]
    }
   ],
   "source": [
    "#positive number in list\n",
    "\n",
    "a = [2,33,56,1,55,8,4,398,44,-2,43,-2,-3,-5,-6,-6,-7]\n",
    "for i in a:\n",
    "    if(i>=0):\n",
    "        print(\"Positive Number Is : \",i)\n",
    "        "
   ]
  },
  {
   "cell_type": "code",
   "execution_count": 43,
   "id": "1a70fae2",
   "metadata": {},
   "outputs": [
    {
     "name": "stdout",
     "output_type": "stream",
     "text": [
      "Negative number is :  -2\n",
      "Negative number is :  -2\n",
      "Negative number is :  -3\n",
      "Negative number is :  -5\n",
      "Negative number is :  -6\n",
      "Negative number is :  -6\n",
      "Negative number is :  -7\n"
     ]
    }
   ],
   "source": [
    "#negative number in list \n",
    "a = [2,33,56,1,55,8,4,398,44,-2,43,-2,-3,-5,-6,-6,-7]\n",
    "for i in a:\n",
    "    if(i<=0):\n",
    "        print(\"Negative number is : \",i)"
   ]
  },
  {
   "cell_type": "code",
   "execution_count": null,
   "id": "97148ccb",
   "metadata": {},
   "outputs": [],
   "source": []
  }
 ],
 "metadata": {
  "kernelspec": {
   "display_name": "Python 3 (ipykernel)",
   "language": "python",
   "name": "python3"
  },
  "language_info": {
   "codemirror_mode": {
    "name": "ipython",
    "version": 3
   },
   "file_extension": ".py",
   "mimetype": "text/x-python",
   "name": "python",
   "nbconvert_exporter": "python",
   "pygments_lexer": "ipython3",
   "version": "3.9.13"
  }
 },
 "nbformat": 4,
 "nbformat_minor": 5
}
