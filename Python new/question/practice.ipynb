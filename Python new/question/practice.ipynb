{
 "cells": [
  {
   "cell_type": "code",
   "execution_count": 4,
   "id": "addbcd74",
   "metadata": {},
   "outputs": [
    {
     "name": "stdout",
     "output_type": "stream",
     "text": [
      "2 4 6 8 10 12 14 16 18 20 22 24 26 28 30 32 34 36 38 40 42 44 46 48 50 52 54 56 58 60 62 64 66 68 70 72 74 76 78 80 82 84 86 88 90 92 94 96 98 "
     ]
    }
   ],
   "source": [
    "# Python program to print all odd numbers in a range\n",
    "\n",
    "for i in range(1,100):\n",
    "    if(i%2==0):\n",
    "        print(i,end=\" \")"
   ]
  },
  {
   "cell_type": "code",
   "execution_count": 20,
   "id": "7a383982",
   "metadata": {},
   "outputs": [
    {
     "name": "stdout",
     "output_type": "stream",
     "text": [
      "Total Even Number is :  9\n",
      "Total odd number is :  8\n"
     ]
    }
   ],
   "source": [
    "# Python program to count Even and Odd numbers in a List\n",
    "odd = 0\n",
    "even = 0\n",
    "a = [11,22,3,4,5,6,7,8,8,9,0,-1,2,2,3,4,1]\n",
    "for i in a:\n",
    "    if(i%2==0):\n",
    "        even =even+1\n",
    "    else:\n",
    "        odd = odd+1\n",
    "print('Total Even Number is : ',even)\n",
    "print(\"Total odd number is : \",odd)"
   ]
  },
  {
   "cell_type": "code",
   "execution_count": 24,
   "id": "7b5280bf",
   "metadata": {},
   "outputs": [
    {
     "data": {
      "text/plain": [
       "1"
      ]
     },
     "execution_count": 24,
     "metadata": {},
     "output_type": "execute_result"
    }
   ],
   "source": [
    "a = [11,22,3,4,5,6,7,8,8,9,0,-1,2,2,3,4,1]\n",
    "b = max(a)\n",
    "a.index(b)"
   ]
  },
  {
   "cell_type": "code",
   "execution_count": null,
   "id": "688df1f1",
   "metadata": {},
   "outputs": [],
   "source": []
  }
 ],
 "metadata": {
  "kernelspec": {
   "display_name": "Python 3 (ipykernel)",
   "language": "python",
   "name": "python3"
  },
  "language_info": {
   "codemirror_mode": {
    "name": "ipython",
    "version": 3
   },
   "file_extension": ".py",
   "mimetype": "text/x-python",
   "name": "python",
   "nbconvert_exporter": "python",
   "pygments_lexer": "ipython3",
   "version": "3.9.13"
  }
 },
 "nbformat": 4,
 "nbformat_minor": 5
}
