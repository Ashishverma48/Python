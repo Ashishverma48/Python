{
 "cells": [
  {
   "cell_type": "code",
   "execution_count": 6,
   "id": "d91a4572",
   "metadata": {},
   "outputs": [
    {
     "name": "stdout",
     "output_type": "stream",
     "text": [
      "[44, 33, 56, 1, 55, 8, 4, 398, 2]\n"
     ]
    }
   ],
   "source": [
    "# write a Python program to swap first and last element of the list.\n",
    "a = [2,33,56,1,55,8,4,398,44]\n",
    "a[0],a[-1]=a[-1],a[0]\n",
    "print(a)"
   ]
  },
  {
   "cell_type": "code",
   "execution_count": 31,
   "id": "be4c137a",
   "metadata": {},
   "outputs": [
    {
     "data": {
      "text/plain": [
       "['html', 'css', 'javascript', 'python', 'c', 'c++']"
      ]
     },
     "execution_count": 31,
     "metadata": {},
     "output_type": "execute_result"
    }
   ],
   "source": [
    "# Swap elements in String list\n",
    "\n",
    "\n",
    "b = ['html','css','javascript','python','c','c++']\n",
    "str(b)\n",
    "c = ' '.join(b)\n",
    "c.split(\" \")\n"
   ]
  },
  {
   "cell_type": "code",
   "execution_count": 33,
   "id": "2714f3d9",
   "metadata": {},
   "outputs": [
    {
     "name": "stdout",
     "output_type": "stream",
     "text": [
      "The length is :  9\n"
     ]
    }
   ],
   "source": [
    "# Ways to find length of list\n",
    "a = [2,33,56,1,55,8,4,398,44]\n",
    "\n",
    "print(\"The length is : \",len(a))"
   ]
  },
  {
   "cell_type": "code",
   "execution_count": 48,
   "id": "34b7782b",
   "metadata": {},
   "outputs": [
    {
     "name": "stdout",
     "output_type": "stream",
     "text": [
      "enter number : 222\n",
      "Number Not Exits\n"
     ]
    }
   ],
   "source": [
    "# Check if element exists in list in Python\n",
    "\n",
    "a = [2,33,56,1,55,8,4,398,44]\n",
    "n = int(input(\"enter number : \"))\n",
    "if n in a:\n",
    "    print('Number Exits')\n",
    "else:\n",
    "    print(\"Number Not Exits\")\n",
    "    \n"
   ]
  },
  {
   "cell_type": "code",
   "execution_count": 52,
   "id": "cc76d154",
   "metadata": {},
   "outputs": [
    {
     "name": "stdout",
     "output_type": "stream",
     "text": [
      "[]\n"
     ]
    }
   ],
   "source": [
    "# to clear a list in Python\n",
    "a = [2,33,56,1,55,8,4,398,44]\n",
    "a.clear()\n",
    "print(a)"
   ]
  },
  {
   "cell_type": "code",
   "execution_count": 53,
   "id": "5e322fe8",
   "metadata": {},
   "outputs": [
    {
     "name": "stdout",
     "output_type": "stream",
     "text": [
      "[]\n"
     ]
    }
   ],
   "source": [
    "a = [2,33,56,1,55,8,4,398,44]\n",
    "a=[]\n",
    "print(a)"
   ]
  },
  {
   "cell_type": "code",
   "execution_count": 54,
   "id": "1b8bea1a",
   "metadata": {},
   "outputs": [
    {
     "data": {
      "text/plain": [
       "[44, 398, 4, 8, 55, 1, 56, 33, 2]"
      ]
     },
     "execution_count": 54,
     "metadata": {},
     "output_type": "execute_result"
    }
   ],
   "source": [
    "# Reversing a List in Python\n",
    "a = [2,33,56,1,55,8,4,398,44]\n",
    "a[::-1]"
   ]
  },
  {
   "cell_type": "code",
   "execution_count": 56,
   "id": "98e25a8a",
   "metadata": {},
   "outputs": [
    {
     "name": "stdout",
     "output_type": "stream",
     "text": [
      "[44, 398, 4, 8, 55, 1, 56, 33, 2]\n"
     ]
    }
   ],
   "source": [
    "a = [2,33,56,1,55,8,4,398,44]\n",
    "a.reverse()\n",
    "print(a)"
   ]
  },
  {
   "cell_type": "code",
   "execution_count": 57,
   "id": "886416d7",
   "metadata": {},
   "outputs": [
    {
     "name": "stdout",
     "output_type": "stream",
     "text": [
      "[2, 33, 56, 1, 55, 8, 4, 398, 44, 2, 33, 56, 1, 55, 8, 4, 398, 44]\n"
     ]
    }
   ],
   "source": [
    "# Cloning or Copying a list\n",
    "a = [2,33,56,1,55,8,4,398,44]\n",
    "print(a*2)"
   ]
  },
  {
   "cell_type": "code",
   "execution_count": 63,
   "id": "6c8d99be",
   "metadata": {},
   "outputs": [
    {
     "name": "stdout",
     "output_type": "stream",
     "text": [
      "enter number : 2\n",
      "2 is accours 1 time\n"
     ]
    }
   ],
   "source": [
    "# Count occurrences of an element in a list\n",
    "n = int(input(\"enter number : \"))\n",
    "a = [2,33,56,1,55,8,4,398,44]\n",
    "b = a.count(n)\n",
    "print(f\"{n} is accours {b} time\")\n"
   ]
  },
  {
   "cell_type": "code",
   "execution_count": 72,
   "id": "1468eb93",
   "metadata": {},
   "outputs": [
    {
     "name": "stdout",
     "output_type": "stream",
     "text": [
      "The Sum Is : 601 And Average Is : 66.77777777777777\n"
     ]
    }
   ],
   "source": [
    "# Find sum and average of List in Python\n",
    "\n",
    "a = [2,33,56,1,55,8,4,398,44]\n",
    "add = 0\n",
    "\n",
    "for i in a:\n",
    "    add = add+i\n",
    "    avg = add/len(a)\n",
    "print(f\"The Sum Is : {add} And Average Is : {avg}\")\n"
   ]
  },
  {
   "cell_type": "code",
   "execution_count": 74,
   "id": "4e47e71e",
   "metadata": {},
   "outputs": [
    {
     "name": "stdout",
     "output_type": "stream",
     "text": [
      "The Multiply of number is  113914859520\n"
     ]
    }
   ],
   "source": [
    "#  Multiply all numbers in the list\n",
    "\n",
    "a = [2,33,56,1,55,8,4,398,44]\n",
    "mul = 1\n",
    "for i in a:\n",
    "    mul=mul*i\n",
    "print(\"The Multiply of number is \",mul)"
   ]
  },
  {
   "cell_type": "code",
   "execution_count": 86,
   "id": "6d3ba36c",
   "metadata": {},
   "outputs": [
    {
     "name": "stdout",
     "output_type": "stream",
     "text": [
      "Even Number Is :  2\n",
      "Even Number Is :  56\n",
      "Even Number Is :  8\n",
      "Even Number Is :  4\n",
      "Even Number Is :  398\n",
      "Even Number Is :  44\n"
     ]
    }
   ],
   "source": [
    "# Python program to print even numbers in a list\n",
    "\n",
    "a = [2,33,56,1,55,8,4,398,44]\n",
    "for i in a:\n",
    "    if(i%2==0):\n",
    "        print(\"Even Number Is : \",i)"
   ]
  },
  {
   "cell_type": "code",
   "execution_count": null,
   "id": "b272f31f",
   "metadata": {},
   "outputs": [],
   "source": []
  }
 ],
 "metadata": {
  "kernelspec": {
   "display_name": "Python 3 (ipykernel)",
   "language": "python",
   "name": "python3"
  },
  "language_info": {
   "codemirror_mode": {
    "name": "ipython",
    "version": 3
   },
   "file_extension": ".py",
   "mimetype": "text/x-python",
   "name": "python",
   "nbconvert_exporter": "python",
   "pygments_lexer": "ipython3",
   "version": "3.9.13"
  }
 },
 "nbformat": 4,
 "nbformat_minor": 5
}
