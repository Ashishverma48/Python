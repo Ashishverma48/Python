{
 "cells": [
  {
   "cell_type": "markdown",
   "id": "fbc97d19",
   "metadata": {},
   "source": [
    "\n",
    "#  SET\n"
   ]
  },
  {
   "cell_type": "code",
   "execution_count": 5,
   "id": "1f2c8cb3",
   "metadata": {},
   "outputs": [
    {
     "name": "stdout",
     "output_type": "stream",
     "text": [
      "<class 'set'>\n",
      "{0, 33, 66, 99, 8, 9, 11, 44, 555, 77, 22, 88}\n"
     ]
    }
   ],
   "source": [
    "x = {11,11,11,22,22,22,33,44,44,555,66,77,77,88,88,8,9,99,0,9,0,0}\n",
    "print(type(x))\n",
    "print(x)"
   ]
  },
  {
   "cell_type": "code",
   "execution_count": 59,
   "id": "ff2af235",
   "metadata": {},
   "outputs": [
    {
     "name": "stdout",
     "output_type": "stream",
     "text": [
      "{33, 3, 4, 5, 6, 11.22}\n",
      "<class 'set'>\n"
     ]
    }
   ],
   "source": [
    "\n",
    "x = set([11.22,33,3,4,4,5,5,6])\n",
    "print(x)\n",
    "print(type(x))"
   ]
  },
  {
   "cell_type": "code",
   "execution_count": null,
   "id": "a93d91ea",
   "metadata": {},
   "outputs": [],
   "source": []
  },
  {
   "cell_type": "code",
   "execution_count": 60,
   "id": "8df0df13",
   "metadata": {},
   "outputs": [
    {
     "name": "stdout",
     "output_type": "stream",
     "text": [
      "{'apple', 'banana', 'grapes', 'lichi'}\n",
      "{'banana', 'papaya', 'lichi', 'apple', 'grapes'}\n"
     ]
    }
   ],
   "source": [
    "#Creating a set \n",
    "\n",
    "set1 = set(['banana','apple','grapes','lichi'])\n",
    "print(set1)\n",
    "\n",
    "# add () use single item in set\n",
    "\n",
    "\n",
    "set1.add('papaya')\n",
    "print(set1)"
   ]
  },
  {
   "cell_type": "code",
   "execution_count": 61,
   "id": "4237e39b",
   "metadata": {},
   "outputs": [
    {
     "name": "stdout",
     "output_type": "stream",
     "text": [
      "{'pine-apple', 'banana', 'papaya', 'lichi', 'apple', 'mango', 'orenge', 'grapes'}\n"
     ]
    }
   ],
   "source": [
    "# update() use multiple item in set\n",
    "\n",
    "set1.update(['mango','orenge','pine-apple'])\n",
    "print(set1)"
   ]
  },
  {
   "cell_type": "code",
   "execution_count": 62,
   "id": "2bf75097",
   "metadata": {},
   "outputs": [
    {
     "name": "stdout",
     "output_type": "stream",
     "text": [
      "{'pine-apple', 'papaya', 'lichi', 'apple', 'mango', 'orenge', 'grapes'}\n"
     ]
    }
   ],
   "source": [
    "# remove() \n",
    "\n",
    "# remove method give error the key are looking for in not available\n",
    "\n",
    "set1.remove('banana')\n",
    "\n",
    "print(set1)"
   ]
  },
  {
   "cell_type": "code",
   "execution_count": 58,
   "id": "eed785ca",
   "metadata": {},
   "outputs": [
    {
     "name": "stdout",
     "output_type": "stream",
     "text": [
      "{'pine-apple', 'papaya', 'lichi', 'apple', 'mango', 'orenge', 'grapes'}\n"
     ]
    }
   ],
   "source": [
    "# \n",
    "\n",
    "set1.discard('banana')\n",
    "print(set1)"
   ]
  },
  {
   "cell_type": "code",
   "execution_count": null,
   "id": "8d7a1b4c",
   "metadata": {},
   "outputs": [],
   "source": []
  }
 ],
 "metadata": {
  "kernelspec": {
   "display_name": "Python 3 (ipykernel)",
   "language": "python",
   "name": "python3"
  },
  "language_info": {
   "codemirror_mode": {
    "name": "ipython",
    "version": 3
   },
   "file_extension": ".py",
   "mimetype": "text/x-python",
   "name": "python",
   "nbconvert_exporter": "python",
   "pygments_lexer": "ipython3",
   "version": "3.9.13"
  }
 },
 "nbformat": 4,
 "nbformat_minor": 5
}
