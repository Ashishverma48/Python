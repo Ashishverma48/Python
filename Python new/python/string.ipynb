{
 "cells": [
  {
   "cell_type": "code",
   "execution_count": 2,
   "id": "e89d3ced",
   "metadata": {},
   "outputs": [
    {
     "name": "stdout",
     "output_type": "stream",
     "text": [
      "Hi! What Is Your Name \n"
     ]
    }
   ],
   "source": [
    "# title()  convert first word first letter in capitalal letter\n",
    "a = 'hi! what is your name '\n",
    "print(a.title())"
   ]
  },
  {
   "cell_type": "code",
   "execution_count": 3,
   "id": "2d93b27f",
   "metadata": {},
   "outputs": [
    {
     "data": {
      "text/plain": [
       "'HI! WHAT IS YOUR NAME '"
      ]
     },
     "execution_count": 3,
     "metadata": {},
     "output_type": "execute_result"
    }
   ],
   "source": [
    "# swapcase() swap upperto lower\n",
    "a.swapcase()"
   ]
  },
  {
   "cell_type": "code",
   "execution_count": 12,
   "id": "a761f792",
   "metadata": {},
   "outputs": [
    {
     "data": {
      "text/plain": [
       "2"
      ]
     },
     "execution_count": 12,
     "metadata": {},
     "output_type": "execute_result"
    }
   ],
   "source": [
    "a.count('i')"
   ]
  },
  {
   "cell_type": "code",
   "execution_count": 15,
   "id": "caf28908",
   "metadata": {},
   "outputs": [
    {
     "data": {
      "text/plain": [
       "22"
      ]
     },
     "execution_count": 15,
     "metadata": {},
     "output_type": "execute_result"
    }
   ],
   "source": [
    "len(a)"
   ]
  },
  {
   "cell_type": "code",
   "execution_count": 19,
   "id": "dba99dd2",
   "metadata": {},
   "outputs": [
    {
     "data": {
      "text/plain": [
       "False"
      ]
     },
     "execution_count": 19,
     "metadata": {},
     "output_type": "execute_result"
    }
   ],
   "source": [
    "# isalnum check alfanumric str\n",
    "\n",
    "b= 'my number id a27667434'\n",
    "b.isalnum()"
   ]
  },
  {
   "cell_type": "code",
   "execution_count": 23,
   "id": "b0b48989",
   "metadata": {},
   "outputs": [
    {
     "name": "stdout",
     "output_type": "stream",
     "text": [
      "name is:  ram age is :52 position is : maneger\n"
     ]
    }
   ],
   "source": [
    "# f  string formatting \n",
    "a = 'ram'\n",
    "age= 52\n",
    "po= 'maneger'\n",
    "c= f'name is:  {a} age is :{age} position is : {po}'\n",
    "print(c)"
   ]
  },
  {
   "cell_type": "code",
   "execution_count": 49,
   "id": "653e6668",
   "metadata": {},
   "outputs": [
    {
     "name": "stdout",
     "output_type": "stream",
     "text": [
      "Thirty Days Of Python\n"
     ]
    }
   ],
   "source": [
    "a = 'Thirty'\n",
    "b = 'Days'\n",
    "c= 'Of'\n",
    "d = 'Python'\n",
    "f = a+ ' '+ b + ' '  + c + ' ' + d\n",
    "print(f)"
   ]
  },
  {
   "cell_type": "code",
   "execution_count": null,
   "id": "1dd9175c",
   "metadata": {},
   "outputs": [],
   "source": []
  },
  {
   "cell_type": "code",
   "execution_count": 26,
   "id": "64975ab4",
   "metadata": {},
   "outputs": [
    {
     "name": "stdout",
     "output_type": "stream",
     "text": [
      "Coding To All\n"
     ]
    }
   ],
   "source": [
    "company = 'Coding To All'\n",
    "print(company)"
   ]
  },
  {
   "cell_type": "code",
   "execution_count": 27,
   "id": "d3b0acbb",
   "metadata": {},
   "outputs": [
    {
     "name": "stdout",
     "output_type": "stream",
     "text": [
      "13\n"
     ]
    }
   ],
   "source": [
    "print(len(company))"
   ]
  },
  {
   "cell_type": "code",
   "execution_count": 28,
   "id": "3268fdae",
   "metadata": {},
   "outputs": [
    {
     "data": {
      "text/plain": [
       "'CODING TO ALL'"
      ]
     },
     "execution_count": 28,
     "metadata": {},
     "output_type": "execute_result"
    }
   ],
   "source": [
    "company.upper()"
   ]
  },
  {
   "cell_type": "code",
   "execution_count": 29,
   "id": "476af228",
   "metadata": {},
   "outputs": [
    {
     "data": {
      "text/plain": [
       "'coding to all'"
      ]
     },
     "execution_count": 29,
     "metadata": {},
     "output_type": "execute_result"
    }
   ],
   "source": [
    "company.lower()"
   ]
  },
  {
   "cell_type": "code",
   "execution_count": 30,
   "id": "abe83eae",
   "metadata": {},
   "outputs": [
    {
     "data": {
      "text/plain": [
       "'cODING tO aLL'"
      ]
     },
     "execution_count": 30,
     "metadata": {},
     "output_type": "execute_result"
    }
   ],
   "source": [
    "# company.swapcase()"
   ]
  },
  {
   "cell_type": "code",
   "execution_count": 34,
   "id": "a68d4b40",
   "metadata": {},
   "outputs": [
    {
     "data": {
      "text/plain": [
       "'Coding To All'"
      ]
     },
     "execution_count": 34,
     "metadata": {},
     "output_type": "execute_result"
    }
   ],
   "source": [
    "company.title()"
   ]
  },
  {
   "cell_type": "code",
   "execution_count": 35,
   "id": "c8ff6ca0",
   "metadata": {},
   "outputs": [
    {
     "data": {
      "text/plain": [
       "'Dhajj Dsuhhdkjfyjs'"
      ]
     },
     "execution_count": 35,
     "metadata": {},
     "output_type": "execute_result"
    }
   ],
   "source": [
    "a = 'dhajj dsuhhdkjfyjs'\n",
    "a.title()"
   ]
  },
  {
   "cell_type": "code",
   "execution_count": 46,
   "id": "6a4aa9a2",
   "metadata": {},
   "outputs": [
    {
     "data": {
      "text/plain": [
       "'-'"
      ]
     },
     "execution_count": 46,
     "metadata": {},
     "output_type": "execute_result"
    }
   ],
   "source": [
    "x  = 'Thirt Days Of Coding'\n",
    "x.join('-')"
   ]
  },
  {
   "cell_type": "code",
   "execution_count": 50,
   "id": "44a13f0d",
   "metadata": {},
   "outputs": [
    {
     "name": "stdout",
     "output_type": "stream",
     "text": [
      "Hello  Hi What Is Your Name\n"
     ]
    }
   ],
   "source": [
    "# ' seprator'.join(var)  to join string\n",
    "\n",
    "a = ['Hello ','Hi','What','Is','Your','Name']\n",
    "b = ' '.join(a)\n",
    "print(b)"
   ]
  },
  {
   "cell_type": "code",
   "execution_count": 51,
   "id": "121ddb80",
   "metadata": {},
   "outputs": [
    {
     "data": {
      "text/plain": [
       "'hello what is your name'"
      ]
     },
     "execution_count": 51,
     "metadata": {},
     "output_type": "execute_result"
    }
   ],
   "source": [
    "#  .strip() remove item beggining and ending\n",
    "x = '@hello what is your name%'\n",
    "\n",
    "y = x.strip('@%')\n",
    "y"
   ]
  },
  {
   "cell_type": "code",
   "execution_count": 52,
   "id": "2d1e6ff3",
   "metadata": {},
   "outputs": [
    {
     "data": {
      "text/plain": [
       "'pythonn react css html'"
      ]
     },
     "execution_count": 52,
     "metadata": {},
     "output_type": "execute_result"
    }
   ],
   "source": [
    "# replace() replace \n",
    "a = 'pythonn java css html'\n",
    "b = a.replace('java', 'react')\n",
    "b"
   ]
  },
  {
   "cell_type": "code",
   "execution_count": 54,
   "id": "63eec52f",
   "metadata": {},
   "outputs": [
    {
     "name": "stdout",
     "output_type": "stream",
     "text": [
      "['pythonn', 'java', 'css', 'html']\n"
     ]
    },
    {
     "ename": "AttributeError",
     "evalue": "'list' object has no attribute 'len'",
     "output_type": "error",
     "traceback": [
      "\u001b[1;31m---------------------------------------------------------------------------\u001b[0m",
      "\u001b[1;31mAttributeError\u001b[0m                            Traceback (most recent call last)",
      "\u001b[1;32m~\\AppData\\Local\\Temp\\ipykernel_12468\\4004258490.py\u001b[0m in \u001b[0;36m<module>\u001b[1;34m\u001b[0m\n\u001b[0;32m      2\u001b[0m \u001b[0mc\u001b[0m \u001b[1;33m=\u001b[0m \u001b[0ma\u001b[0m\u001b[1;33m.\u001b[0m\u001b[0msplit\u001b[0m\u001b[1;33m(\u001b[0m \u001b[1;33m)\u001b[0m\u001b[1;33m\u001b[0m\u001b[1;33m\u001b[0m\u001b[0m\n\u001b[0;32m      3\u001b[0m \u001b[0mprint\u001b[0m\u001b[1;33m(\u001b[0m\u001b[0mc\u001b[0m\u001b[1;33m)\u001b[0m\u001b[1;33m\u001b[0m\u001b[1;33m\u001b[0m\u001b[0m\n\u001b[1;32m----> 4\u001b[1;33m \u001b[0mc\u001b[0m\u001b[1;33m.\u001b[0m\u001b[0mlen\u001b[0m\u001b[1;33m(\u001b[0m\u001b[1;33m)\u001b[0m\u001b[1;33m\u001b[0m\u001b[1;33m\u001b[0m\u001b[0m\n\u001b[0m",
      "\u001b[1;31mAttributeError\u001b[0m: 'list' object has no attribute 'len'"
     ]
    }
   ],
   "source": [
    "# splite() \n",
    "c = a.split( )\n",
    "print(c)\n"
   ]
  },
  {
   "cell_type": "code",
   "execution_count": null,
   "id": "026fac17",
   "metadata": {},
   "outputs": [],
   "source": []
  }
 ],
 "metadata": {
  "kernelspec": {
   "display_name": "Python 3 (ipykernel)",
   "language": "python",
   "name": "python3"
  },
  "language_info": {
   "codemirror_mode": {
    "name": "ipython",
    "version": 3
   },
   "file_extension": ".py",
   "mimetype": "text/x-python",
   "name": "python",
   "nbconvert_exporter": "python",
   "pygments_lexer": "ipython3",
   "version": "3.9.13"
  }
 },
 "nbformat": 4,
 "nbformat_minor": 5
}
