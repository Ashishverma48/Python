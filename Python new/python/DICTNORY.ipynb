{
 "cells": [
  {
   "cell_type": "markdown",
   "id": "17b0adc3",
   "metadata": {},
   "source": [
    "# DICT\n"
   ]
  },
  {
   "cell_type": "code",
   "execution_count": 30,
   "id": "f42f0069",
   "metadata": {},
   "outputs": [
    {
     "name": "stdout",
     "output_type": "stream",
     "text": [
      "{'name': 'ram', 'age': 22, 'sal': 223, 'post': 'manager', 'add': 'noida'}\n"
     ]
    }
   ],
   "source": [
    "emp = {\n",
    "    \"name\":'ram',\n",
    "    'age':22,\n",
    "    'sal':223,\n",
    "    'post':'manager',\n",
    "    'add':'noida'\n",
    "}\n",
    "print(emp)\n"
   ]
  },
  {
   "cell_type": "code",
   "execution_count": 31,
   "id": "5523fc5f",
   "metadata": {},
   "outputs": [
    {
     "name": "stdout",
     "output_type": "stream",
     "text": [
      "<class 'dict'>\n"
     ]
    }
   ],
   "source": [
    "print(type(emp))"
   ]
  },
  {
   "cell_type": "code",
   "execution_count": 32,
   "id": "99e4e9d5",
   "metadata": {},
   "outputs": [
    {
     "name": "stdout",
     "output_type": "stream",
     "text": [
      "ram\n",
      "22\n",
      "223\n",
      "manager\n",
      "noida\n"
     ]
    }
   ],
   "source": [
    "for i in emp.values():\n",
    "    print(i)"
   ]
  },
  {
   "cell_type": "code",
   "execution_count": 41,
   "id": "90c5a955",
   "metadata": {},
   "outputs": [
    {
     "name": "stdout",
     "output_type": "stream",
     "text": [
      "Enter Year : 2100\n",
      "2100 is Leap Year\n"
     ]
    }
   ],
   "source": [
    "year = int(input(\"Enter Year : \"))\n",
    "if (year%400==0) and (year%100==0):\n",
    "    print(f\"{year} is Leap Year\")\n",
    "elif (year%4==0) and (year%4 !=  0):\n",
    "      print(f\"{year} is Leap Year\")\n",
    "        \n",
    "else:\n",
    "    print(f\"{year} is Not Leap Year\")"
   ]
  },
  {
   "cell_type": "code",
   "execution_count": 45,
   "id": "2803c61f",
   "metadata": {},
   "outputs": [
    {
     "data": {
      "text/plain": [
       "'positive'"
      ]
     },
     "execution_count": 45,
     "metadata": {},
     "output_type": "execute_result"
    }
   ],
   "source": [
    "num = 33\n",
    "'positive' if num>0 else('negative' if num<0 else 'zero')"
   ]
  },
  {
   "cell_type": "code",
   "execution_count": 52,
   "id": "9f85c11c",
   "metadata": {},
   "outputs": [
    {
     "name": "stdout",
     "output_type": "stream",
     "text": [
      "1\n",
      "2\n",
      "3\n",
      "4\n",
      "5\n",
      "6\n",
      "7\n",
      "8\n",
      "9\n",
      "10\n",
      "[1, 2, 3, 4, 5, 6, 7, 8, 9, 10]\n",
      "[4, 16, 36, 64, 100]\n",
      "[1, 27, 125, 343, 729]\n"
     ]
    }
   ],
   "source": [
    "num = [1,2,3,4,5,6,7,8,9,10]\n",
    "sqr =[]\n",
    "cube = []\n",
    "for i in num:\n",
    "     print(i)\n",
    "    if i%2==0:\n",
    "        sqr.append(i**2)\n",
    "    else:\n",
    "        cube.append(i**3)\n",
    "        \n",
    "print(num)\n",
    "   \n",
    "print(sqr)\n",
    "print(cube)"
   ]
  },
  {
   "cell_type": "code",
   "execution_count": 56,
   "id": "c636ed50",
   "metadata": {},
   "outputs": [
    {
     "name": "stdout",
     "output_type": "stream",
     "text": [
      "[121, 144, 169, 196, 225, 256, 289, 324, 361, 400]\n",
      "[1, 8, 27, 64, 125, 216, 343, 512, 729, 1000]\n"
     ]
    }
   ],
   "source": [
    "num1 = [1,2,3,4,5,6,7,8,9,10,11,12,13,14,15,16,17,18,19,20]\n",
    "sqr =[]\n",
    "cube = []\n",
    "for i in num1:\n",
    "    if i>=10:\n",
    "        sqr.append(i**3)\n",
    "    else:\n",
    "        cube.append(i**2 )\n",
    "print(sqr)\n",
    "print(cube)\n",
    "        "
   ]
  },
  {
   "cell_type": "code",
   "execution_count": 66,
   "id": "cd2e8743",
   "metadata": {},
   "outputs": [
    {
     "name": "stdout",
     "output_type": "stream",
     "text": [
      "4\n",
      "2\n",
      "['MALE', 'MALE', 'MALE', 'MALE']\n",
      "['FEMALE', 'FEMALE']\n"
     ]
    }
   ],
   "source": [
    "gender = ['male','male','female','male','female','male']\n",
    "\n",
    "malen = 0\n",
    "male = []\n",
    "femalen =0\n",
    "female= []\n",
    "for i in gender:\n",
    "    if i == 'male':\n",
    "        malen+=1\n",
    "        male.append(i.upper())\n",
    "    else:\n",
    "        femalen+=1\n",
    "        female.append(i.swapcase())\n",
    "print(malen)\n",
    "print(femalen)\n",
    "print(male)\n",
    "print(female)"
   ]
  },
  {
   "cell_type": "code",
   "execution_count": 82,
   "id": "3458fcab",
   "metadata": {},
   "outputs": [
    {
     "name": "stdout",
     "output_type": "stream",
     "text": [
      " name : ashish\n",
      " age : 22\n",
      " sal : 222\n",
      " mob : 63456757623\n"
     ]
    }
   ],
   "source": [
    "person = {\n",
    "    'name':'ashish',\n",
    "    'age':22,\n",
    "    'sal':222,\n",
    "    'mob':63456757623\n",
    "                    \n",
    "}\n",
    "for i in person:\n",
    "    print(f\" {i} : {person[i]}\")"
   ]
  },
  {
   "cell_type": "code",
   "execution_count": 92,
   "id": "038c98fb",
   "metadata": {},
   "outputs": [
    {
     "name": "stdout",
     "output_type": "stream",
     "text": [
      "55\n"
     ]
    }
   ],
   "source": [
    "list1 = list(range(1,11))\n",
    "sum = 0\n",
    "for i in list1:\n",
    "    sum = sum+i\n",
    "print(sum)"
   ]
  },
  {
   "cell_type": "code",
   "execution_count": 93,
   "id": "46ccf902",
   "metadata": {},
   "outputs": [
    {
     "name": "stdout",
     "output_type": "stream",
     "text": [
      "1\n",
      "2\n",
      "6\n",
      "24\n",
      "120\n",
      "720\n",
      "5040\n",
      "40320\n",
      "362880\n",
      "3628800\n"
     ]
    },
    {
     "data": {
      "text/plain": [
       "[1, 2, 3, 4, 5, 6, 7, 8, 9, 10]"
      ]
     },
     "execution_count": 93,
     "metadata": {},
     "output_type": "execute_result"
    }
   ],
   "source": [
    "mul = 1\n",
    "for i in list1:\n",
    "    mul=mul*i\n",
    "    print(mul)\n"
   ]
  },
  {
   "cell_type": "code",
   "execution_count": 94,
   "id": "5b8d1c3d",
   "metadata": {},
   "outputs": [
    {
     "name": "stdout",
     "output_type": "stream",
     "text": [
      "11\n",
      "23\n",
      "36\n",
      "50\n",
      "65\n",
      "81\n",
      "98\n",
      "116\n",
      "135\n",
      "155\n"
     ]
    }
   ],
   "source": [
    "list2 = list(range(1,21))\n",
    "sum = 0\n",
    "for i in list2:\n",
    "    if i>10:\n",
    "        sum+=i\n",
    "        print(sum)\n",
    "        "
   ]
  },
  {
   "cell_type": "code",
   "execution_count": null,
   "id": "ff51c067",
   "metadata": {},
   "outputs": [],
   "source": []
  }
 ],
 "metadata": {
  "kernelspec": {
   "display_name": "Python 3 (ipykernel)",
   "language": "python",
   "name": "python3"
  },
  "language_info": {
   "codemirror_mode": {
    "name": "ipython",
    "version": 3
   },
   "file_extension": ".py",
   "mimetype": "text/x-python",
   "name": "python",
   "nbconvert_exporter": "python",
   "pygments_lexer": "ipython3",
   "version": "3.9.13"
  }
 },
 "nbformat": 4,
 "nbformat_minor": 5
}
