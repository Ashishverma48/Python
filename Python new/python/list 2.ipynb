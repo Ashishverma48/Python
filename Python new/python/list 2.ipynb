{
 "cells": [
  {
   "cell_type": "markdown",
   "id": "7788c6ba",
   "metadata": {},
   "source": [
    "# list 2\n"
   ]
  },
  {
   "cell_type": "code",
   "execution_count": 56,
   "id": "eee0a395",
   "metadata": {},
   "outputs": [],
   "source": [
    "l  =  list(range(0,100))\n"
   ]
  },
  {
   "cell_type": "code",
   "execution_count": 57,
   "id": "0bafb1af",
   "metadata": {},
   "outputs": [
    {
     "name": "stdout",
     "output_type": "stream",
     "text": [
      "[0, 5, 6, 7, 8, 9, 10, 11, 12, 13, 14, 15, 16, 17, 18, 19, 20, 21, 22, 23, 24, 25, 26, 27, 28, 29, 30, 31, 32, 33, 34, 35, 36, 37, 38, 39, 40, 41, 42, 43, 44, 45, 46, 47, 48, 49, 50, 51, 52, 53, 54, 55, 56, 57, 58, 59, 60, 61, 62, 63, 64, 65, 66, 67, 68, 69, 70, 71, 72, 73, 74, 75, 76, 77, 78, 79, 80, 81, 82, 83, 84, 85, 86, 87, 88, 89, 90, 91, 92, 93, 94, 95, 96, 97, 98, 99]\n"
     ]
    }
   ],
   "source": [
    " del l[1:5]\n",
    "print(l)"
   ]
  },
  {
   "cell_type": "code",
   "execution_count": 65,
   "id": "0d6fe9c9",
   "metadata": {},
   "outputs": [
    {
     "name": "stdout",
     "output_type": "stream",
     "text": [
      "10\n",
      "[11, 12, 13, 14, 15, 16, 17, 18, 19, 20, 21, 22, 23, 24, 25, 26, 27, 28, 29, 30, 31, 32, 33, 34, 35, 36, 37, 38, 39, 40, 41, 42, 43, 44, 45, 46, 47, 48, 49, 50, 51, 52, 53, 54, 55, 56, 57, 58, 59, 60, 61, 62, 63, 64, 65, 66, 67, 68, 69, 70, 71, 72, 73, 74, 75, 76, 77, 78, 79, 80, 81, 82, 83, 84, 85, 86, 87, 88, 89, 90, 91, 92, 93, 94, 95, 96, 97, 98]\n"
     ]
    }
   ],
   "source": [
    "print(l.pop(0))\n"
   ]
  },
  {
   "cell_type": "code",
   "execution_count": 79,
   "id": "ac9a146b",
   "metadata": {},
   "outputs": [
    {
     "data": {
      "text/plain": [
       "'grapes'"
      ]
     },
     "execution_count": 79,
     "metadata": {},
     "output_type": "execute_result"
    }
   ],
   "source": [
    "f = ['apple','banana','papaya','grapes','mango']\n",
    "# f.remove('apple')\n",
    "f.pop(3)"
   ]
  },
  {
   "cell_type": "code",
   "execution_count": 108,
   "id": "a0f04810",
   "metadata": {},
   "outputs": [],
   "source": [
    "x = [5,6,7,8]\n",
    "y = [1,2,3,4]"
   ]
  },
  {
   "cell_type": "code",
   "execution_count": 112,
   "id": "fd1fe747",
   "metadata": {},
   "outputs": [
    {
     "name": "stdout",
     "output_type": "stream",
     "text": [
      "[5, 6, 7, 8, 1, 2, 3, 4, 5, 6, 7, 8, 1, 2, 3, 4]\n"
     ]
    },
    {
     "data": {
      "text/plain": [
       "[1, 2, 3, 4, 5, 6, 7, 8]"
      ]
     },
     "execution_count": 112,
     "metadata": {},
     "output_type": "execute_result"
    }
   ],
   "source": [
    "# x.extend(y)\n",
    "# print(x)\n",
    "z = x+y\n",
    "print(z*2)\n",
    "z.sort()\n",
    "z"
   ]
  },
  {
   "cell_type": "code",
   "execution_count": 106,
   "id": "cd4e35d8",
   "metadata": {},
   "outputs": [
    {
     "data": {
      "text/plain": [
       "[12, 22, 33, 44, 55, 76, 765, 76]"
      ]
     },
     "execution_count": 106,
     "metadata": {},
     "output_type": "execute_result"
    }
   ],
   "source": [
    "n =[]\n",
    "n[0:1]=12,22,33,44,55,76,765,76\n",
    "n"
   ]
  },
  {
   "cell_type": "code",
   "execution_count": 120,
   "id": "05df22f9",
   "metadata": {},
   "outputs": [
    {
     "ename": "SyntaxError",
     "evalue": "invalid syntax (1024073302.py, line 3)",
     "output_type": "error",
     "traceback": [
      "\u001b[1;36m  File \u001b[1;32m\"C:\\Users\\ashis\\AppData\\Local\\Temp\\ipykernel_17524\\1024073302.py\"\u001b[1;36m, line \u001b[1;32m3\u001b[0m\n\u001b[1;33m    if i>55 n:\u001b[0m\n\u001b[1;37m            ^\u001b[0m\n\u001b[1;31mSyntaxError\u001b[0m\u001b[1;31m:\u001b[0m invalid syntax\n"
     ]
    }
   ],
   "source": [
    "n = list(range(1,50))\n",
    "print(n)\n",
    "if i>55 n:\n",
    "    print(i)"
   ]
  },
  {
   "cell_type": "code",
   "execution_count": 139,
   "id": "e6d4527e",
   "metadata": {},
   "outputs": [
    {
     "ename": "SyntaxError",
     "evalue": "invalid syntax (4264954821.py, line 16)",
     "output_type": "error",
     "traceback": [
      "\u001b[1;36m  File \u001b[1;32m\"C:\\Users\\ashis\\AppData\\Local\\Temp\\ipykernel_17524\\4264954821.py\"\u001b[1;36m, line \u001b[1;32m16\u001b[0m\n\u001b[1;33m    print(a.index('i',b++,len(a)))\u001b[0m\n\u001b[1;37m                         ^\u001b[0m\n\u001b[1;31mSyntaxError\u001b[0m\u001b[1;31m:\u001b[0m invalid syntax\n"
     ]
    }
   ],
   "source": [
    "a = ('a','b','i','d','h','i','f','i','j','q','i')\n",
    "# first i \n",
    "print(\"Index of First i : \",a.index('i'))\n",
    "\n",
    "# secend i\n",
    "\n",
    "print(\"Index Of second i : \",a.index(\"i\",4))\n",
    "\n",
    "# third i\n",
    "\n",
    "b = a.index(\"i\",a.index(\"f\"),len(a))\n",
    "print(\"Third i : \",b)\n",
    "\n",
    "#forth i\n",
    "\n",
    "print(a.index('i',b++,len(a)))"
   ]
  },
  {
   "cell_type": "code",
   "execution_count": null,
   "id": "d3302a04",
   "metadata": {},
   "outputs": [],
   "source": []
  }
 ],
 "metadata": {
  "kernelspec": {
   "display_name": "Python 3 (ipykernel)",
   "language": "python",
   "name": "python3"
  },
  "language_info": {
   "codemirror_mode": {
    "name": "ipython",
    "version": 3
   },
   "file_extension": ".py",
   "mimetype": "text/x-python",
   "name": "python",
   "nbconvert_exporter": "python",
   "pygments_lexer": "ipython3",
   "version": "3.9.13"
  }
 },
 "nbformat": 4,
 "nbformat_minor": 5
}
