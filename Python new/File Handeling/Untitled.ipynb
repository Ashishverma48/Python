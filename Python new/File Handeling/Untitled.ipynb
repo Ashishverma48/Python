{
 "cells": [
  {
   "cell_type": "markdown",
   "id": "77cdfe5b",
   "metadata": {},
   "source": [
    "# File Handeling "
   ]
  },
  {
   "cell_type": "code",
   "execution_count": 1,
   "id": "a9ed591b",
   "metadata": {},
   "outputs": [],
   "source": [
    "# Create file \n",
    "\n",
    "f = open(\"new.txt\",\"w\")\n",
    "f.write('hello python')  # write in file\n",
    "f.close()"
   ]
  },
  {
   "cell_type": "code",
   "execution_count": 2,
   "id": "930d69ee",
   "metadata": {},
   "outputs": [],
   "source": [
    "# Read file"
   ]
  },
  {
   "cell_type": "code",
   "execution_count": 3,
   "id": "4fbb0432",
   "metadata": {},
   "outputs": [
    {
     "name": "stdout",
     "output_type": "stream",
     "text": [
      "hello python\n"
     ]
    }
   ],
   "source": [
    "f = open('new.txt','r')\n",
    "print(f.read())\n",
    "f.close()"
   ]
  },
  {
   "cell_type": "code",
   "execution_count": 11,
   "id": "2bae1933",
   "metadata": {},
   "outputs": [
    {
     "name": "stdout",
     "output_type": "stream",
     "text": [
      "enter the textfdfs  dfsdf\n"
     ]
    }
   ],
   "source": [
    "n = input(\"enter the text\")\n",
    "x = n.split()  \n",
    "f = open(\"new.txt\",'w')\n",
    "\n",
    "f.writelines(\"\\n\".join(x))\n",
    "f.close()"
   ]
  },
  {
   "cell_type": "code",
   "execution_count": 5,
   "id": "2e5b4683",
   "metadata": {},
   "outputs": [
    {
     "name": "stdout",
     "output_type": "stream",
     "text": [
      "g\n",
      "\n",
      "jggjh\n",
      "\n",
      "jg\n",
      "\n",
      "jgjh\n",
      "\n",
      "jhghjhg\n"
     ]
    }
   ],
   "source": [
    "f= open('new.txt','r')\n",
    "for i in f:\n",
    "    print(i)"
   ]
  },
  {
   "cell_type": "raw",
   "id": "a37f8983",
   "metadata": {},
   "source": []
  },
  {
   "cell_type": "code",
   "execution_count": 16,
   "id": "b285a994",
   "metadata": {},
   "outputs": [
    {
     "name": "stdout",
     "output_type": "stream",
     "text": [
      "Enter Element : html css jaascript python java\n",
      "html\n",
      "css\n",
      "jaascript\n",
      "python\n",
      "java\n"
     ]
    }
   ],
   "source": [
    "def read_file(fname):\n",
    "    n= input(\"Enter Element : \")\n",
    "    my_list = n.split()\n",
    "    f= open(fname,'w')\n",
    "    f.writelines(\"\\n\".join(my_list))\n",
    "    f = open(fname,'r')\n",
    "    print(f.read())\n",
    "    f.close()\n",
    "read_file(\"new2.pdf\")\n",
    "    "
   ]
  },
  {
   "cell_type": "code",
   "execution_count": null,
   "id": "a2b8cc8d",
   "metadata": {},
   "outputs": [],
   "source": []
  }
 ],
 "metadata": {
  "kernelspec": {
   "display_name": "Python 3 (ipykernel)",
   "language": "python",
   "name": "python3"
  },
  "language_info": {
   "codemirror_mode": {
    "name": "ipython",
    "version": 3
   },
   "file_extension": ".py",
   "mimetype": "text/x-python",
   "name": "python",
   "nbconvert_exporter": "python",
   "pygments_lexer": "ipython3",
   "version": "3.9.13"
  }
 },
 "nbformat": 4,
 "nbformat_minor": 5
}
